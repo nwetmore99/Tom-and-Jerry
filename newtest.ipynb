{
 "cells": [
  {
   "cell_type": "code",
   "execution_count": 31,
   "id": "2e98a1f3-a840-4bb2-9aad-f55591e4578d",
   "metadata": {
    "tags": []
   },
   "outputs": [],
   "source": [
    "#imports required for code\n",
    "import pandas as pd\n",
    "import cv2 #run pip install opencv-python\n",
    "import os\n",
    "import numpy as np\n",
    "from matplotlib import pyplot as plt\n",
    "import pandas as pd\n",
    "from tqdm import tqdm\n",
    "import math"
   ]
  },
  {
   "cell_type": "code",
   "execution_count": 10,
   "id": "32bc0729-33ac-40aa-9854-8ba8e360f9fb",
   "metadata": {
    "tags": []
   },
   "outputs": [],
   "source": [
    "#set the image size we want to use\n",
    "desired_width = 100\n",
    "desired_height = 100"
   ]
  },
  {
   "cell_type": "code",
   "execution_count": 11,
   "id": "c6166f89-d9fe-49d0-b539-cb3c5ac4cffe",
   "metadata": {
    "tags": []
   },
   "outputs": [
    {
     "name": "stderr",
     "output_type": "stream",
     "text": [
      "100%|██████████| 5478/5478 [01:33<00:00, 58.81it/s]\n"
     ]
    },
    {
     "name": "stdout",
     "output_type": "stream",
     "text": [
      "(5478, 100, 100)\n"
     ]
    }
   ],
   "source": [
    "# Read ground truth CSV\n",
    "ground_truth = pd.read_csv('ground_truth.csv')\n",
    "\n",
    "# Get sorted list of filenames\n",
    "csv_filenames = ground_truth['filename'].values\n",
    "\n",
    "# Function to load and preprocess a single image\n",
    "def load_and_preprocess_image(filename):\n",
    "    img = cv2.imread(os.path.join('frames', filename))\n",
    "    if img is not None:\n",
    "        if len(img.shape) == 2 or img.shape[2] == 1:\n",
    "            gray_img = img\n",
    "        else:\n",
    "            gray_img = cv2.cvtColor(img, cv2.COLOR_BGR2GRAY)\n",
    "        gray_img = cv2.resize(gray_img, (desired_width, desired_height))\n",
    "        gray_img = gray_img / 255.0\n",
    "        return gray_img\n",
    "    else:\n",
    "        return None\n",
    "\n",
    "# Load images in the order specified by the CSV file\n",
    "images = []\n",
    "for filename in tqdm(csv_filenames):\n",
    "    img = load_and_preprocess_image(filename)\n",
    "    if img is not None:\n",
    "        images.append(img)\n",
    "\n",
    "# Convert images to a NumPy array\n",
    "images = np.array(images)\n",
    "\n",
    "# Check shapes to confirm everything is correct\n",
    "print(images.shape)\n"
   ]
  },
  {
   "cell_type": "code",
   "execution_count": 12,
   "id": "3749a756-e51e-4a90-95e9-1953dc98381a",
   "metadata": {
    "tags": []
   },
   "outputs": [
    {
     "data": {
      "text/plain": [
       "<matplotlib.image.AxesImage at 0x25d0bd8a710>"
      ]
     },
     "execution_count": 12,
     "metadata": {},
     "output_type": "execute_result"
    },
    {
     "data": {
      "image/png": "[encoded data removed]",
      "text/plain": [
       "<Figure size 640x480 with 1 Axes>"
      ]
     },
     "metadata": {},
     "output_type": "display_data"
    }
   ],
   "source": [
    "plt.imshow(images[4],cmap='gray')"
   ]
  },
  {
   "cell_type": "code",
   "execution_count": 15,
   "id": "46c8430b-ad66-497a-9178-dd54cc713e70",
   "metadata": {
    "tags": []
   },
   "outputs": [
    {
     "data": {
      "text/plain": [
       "(5478, 100, 100)"
      ]
     },
     "execution_count": 15,
     "metadata": {},
     "output_type": "execute_result"
    }
   ],
   "source": [
    "images.shape"
   ]
  },
  {
   "cell_type": "code",
   "execution_count": 16,
   "id": "cf6425f9-9c89-491b-9c0b-8de1772df9a6",
   "metadata": {
    "tags": []
   },
   "outputs": [],
   "source": [
    "#read in classifications\n",
    "y_true = pd.read_csv('ground_truth.csv')\n",
    "#y_true = y_true.sort_values(by='filename').reset_index(drop=True)"
   ]
  },
  {
   "cell_type": "code",
   "execution_count": 17,
   "id": "6e7447af-5db3-40a3-b315-473939acd3d0",
   "metadata": {
    "tags": []
   },
   "outputs": [],
   "source": [
    "def class_creator(row):\n",
    "    '''\n",
    "    returns a class 0-3 for the 4 image classes\n",
    "    -row: dataframe row to be worked with\n",
    "    '''\n",
    "    #only tom is in the frame = class 0\n",
    "    if (row['tom'] == 1) & (row['jerry'] == 0):\n",
    "        val = 0\n",
    "    #only jerry is in the frame = class 1\n",
    "    elif (row['tom'] == 0) & (row['jerry'] == 1):\n",
    "        val = 1\n",
    "    #neither tom nor jerry is in the frame = class 2\n",
    "    elif (row['tom'] == 0) & (row['jerry'] == 0):\n",
    "        val = 2\n",
    "    #both tom and jerry are in the frame = class 3\n",
    "    else:\n",
    "        val = 3\n",
    "    return val"
   ]
  },
  {
   "cell_type": "code",
   "execution_count": 18,
   "id": "1d906c13-e1d6-4b00-b61a-0e3b359bfc43",
   "metadata": {
    "tags": []
   },
   "outputs": [],
   "source": [
    "#create a new column with these class values for each image\n",
    "y_true['class'] = y_true.apply(class_creator, axis=1)\n",
    "\n",
    "#drop all other columns and convert to an np array of the class values\n",
    "y_true = y_true['class'].values"
   ]
  },
  {
   "cell_type": "code",
   "execution_count": 57,
   "id": "edb73cdd-42b6-4933-a9cf-a0c4575cdf9d",
   "metadata": {
    "tags": []
   },
   "outputs": [],
   "source": [
    "class Convolution2D:\n",
    "    def __init__(self, k1, b1, stride=1, padding=0):\n",
    "        \"\"\"\n",
    "          - k1: (6, 5, 5) kernels\n",
    "          - b1: (6) bias\n",
    "        \"\"\"\n",
    "        self.k1 = k1\n",
    "        self.b1 = b1\n",
    "        self.stride = stride\n",
    "        self.padding = padding\n",
    "        \n",
    "    def relu(self,x):\n",
    "        if x < 0:\n",
    "            return 0\n",
    "        else:\n",
    "            return x\n",
    "\n",
    "    def feedforward(self, img):\n",
    "        \"\"\"\n",
    "          - img: (28, 28) image\n",
    "        \"\"\"\n",
    "\n",
    "        N, k1_height, _ =  self.k1.shape\n",
    "\n",
    "        C1_height = int((img.shape[0] - k1_height + 2 * self.padding) / self.stride) + 1\n",
    "\n",
    "        # Initialize C\n",
    "        C1 = np.zeros((N, C1_height, C1_height), dtype=np.float64)\n",
    "        dC1S1 = np.zeros(C1.shape, dtype=np.float64)\n",
    "\n",
    "        for n in range(N):\n",
    "            for i in range(C1_height):\n",
    "                for j in range(C1_height):\n",
    "                    region = img[i:(i + k1_height), j:(j + k1_height)]\n",
    "                    S1_nij = np.sum(region * self.k1[n]) + self.b1[n]\n",
    "                    C1[n, i, j] = self.relu(S1_nij)\n",
    "                    dC1S1[n, i, j] = 1 if S1_nij > 0 else 0\n",
    "\n",
    "        return C1, dC1S1\n",
    "\n",
    "\n",
    "class Convolution3D:\n",
    "    def __init__(self, k2, b2, stride=1, padding=0):\n",
    "        \"\"\"\n",
    "          - k2:   (12, 6, 5, 5) kernels\n",
    "          - b2:   (12) bias\n",
    "        \"\"\"\n",
    "        self.k2 = k2\n",
    "        self.b2 = b2\n",
    "        self.stride = stride\n",
    "        self.padding = padding\n",
    "        \n",
    "    def relu(self,x):\n",
    "        if x < 0:\n",
    "            return 0\n",
    "        else:\n",
    "            return x\n",
    "\n",
    "    def feedforward(self, P1):\n",
    "        \"\"\"\n",
    "          - P1: (6, 12, 12) image\n",
    "        \"\"\"\n",
    "        M, N, k2_height, _ = self.k2.shape\n",
    "        C2_height = int((P1.shape[1] - k2_height + 2 * self.padding) / self.stride) + 1\n",
    "\n",
    "        C2 = np.zeros((M, C2_height, C2_height), dtype=np.float64)\n",
    "        dC2S2 = np.zeros(C2.shape, dtype=np.float64)\n",
    "        dS2P1 = np.zeros(P1.shape + C2.shape, dtype=np.float64)\n",
    "\n",
    "        for m in range(M):\n",
    "            for u in range(C2_height):\n",
    "                for v in range(C2_height):\n",
    "                    region = P1[0:N, u:(u + k2_height), v:(v + k2_height)]\n",
    "                    S2_muv = np.sum(region * self.k2[m]) + self.b2[m]\n",
    "                    C2[m, u, v] = self.relu(S2_muv)\n",
    "                    dC2S2[m, u, v] = 1 if S2_muv > 0 else 0\n",
    "                    dS2P1[0:N, u:(u + k2_height), v:(v + k2_height), m, u, v] = self.k2[m]\n",
    "\n",
    "        return C2, dC2S2, dS2P1"
   ]
  },
  {
   "cell_type": "code",
   "execution_count": 59,
   "id": "de53f5dc-4d01-497e-8c92-a18cc186309e",
   "metadata": {
    "tags": []
   },
   "outputs": [],
   "source": [
    "class MaxPool:\n",
    "    def __init__(self, size=2):\n",
    "        self.size = 2\n",
    "\n",
    "    def feedforward(self, C):\n",
    "        N, C_height, _ = C.shape\n",
    "        P_height = int(C_height / self.size)\n",
    "\n",
    "        P = np.zeros((N, P_height, P_height), dtype=np.float64)\n",
    "        indices = np.zeros((N, P_height, P_height), dtype=(np.int64, 2))\n",
    "\n",
    "        for n in range(N):\n",
    "            for i in range(P_height):\n",
    "                for j in range(P_height):\n",
    "                    region = C[n, (2 * i):(2 * i + 2), (2 * j):(2 * j + 2)]\n",
    "                    P[n, i, j] = np.max(region)\n",
    "                    local_indices = np.unravel_index(np.argmax(region), region.shape)\n",
    "                    indices[n, i, j] = [2 * i + local_indices[0], 2 * j + local_indices[1]]\n",
    "\n",
    "        return P, indices"
   ]
  },
  {
   "cell_type": "code",
   "execution_count": 77,
   "id": "231c2c54-9530-45b4-9631-91accb6b5418",
   "metadata": {
    "tags": []
   },
   "outputs": [],
   "source": [
    "class CNN:\n",
    "    def __init__(self, N, M):\n",
    "        u1 = 0.1\n",
    "        u2 = 0.1\n",
    "        u = 0.1\n",
    "        self.k1 = np.random.uniform(low=-u1, high=u1, size=(N, 5, 5))\n",
    "        self.b1 = np.random.uniform(low=-u1, high=u1, size=(N))\n",
    "        self.k2 = np.random.uniform(low=-u2, high=u2, size=(M, N, 5, 5))\n",
    "        self.b2 = np.random.uniform(low=-u2, high=u2, size=(M))\n",
    "        self.w = np.random.uniform(low=-u, high=u, size=(4, M * 484))\n",
    "        self.b = np.random.uniform(low=-u, high=u, size=(4))\n",
    "        \n",
    "        \n",
    "    def softmax(self,x):\n",
    "        return np.exp(x) / np.sum(np.exp(x))\n",
    "\n",
    "    def loss(self,y_pred):\n",
    "        return -np.log(y_pred)\n",
    "\n",
    "\n",
    "    def feedforward(self, img):\n",
    "        ## Convolution Layer C1\n",
    "        conv1 = Convolution2D(self.k1, self.b1, stride=1, padding=0)\n",
    "        C1, dC1S1 = conv1.feedforward(img)\n",
    "\n",
    "        ## Pooling Layer P1\n",
    "        maxpool = MaxPool(size=2)\n",
    "        P1, I1 = maxpool.feedforward(C1)\n",
    "\n",
    "        ## Convolution Layer C2\n",
    "        conv2 = Convolution3D(self.k2, self.b2, stride=1, padding=0)\n",
    "        C2, dC2S2, dS2P1 = conv2.feedforward(P1)\n",
    "\n",
    "        ## Pooling Layer P2\n",
    "        P2, I2 = maxpool.feedforward(C2)\n",
    "\n",
    "        ## FC Layer\n",
    "        f = P2.flatten()\n",
    "        O = self.softmax(np.dot(self.w, f) + self.b)\n",
    "\n",
    "        return O\n",
    "\n",
    "\n",
    "    def train(self, train_images, train_labels, test_images, test_labels, epoch, lr):\n",
    "        N = self.k1.shape[0]\n",
    "        M = self.k2.shape[0]\n",
    "        epochs = []\n",
    "        avg_losses = []\n",
    "        accuracies = []\n",
    "\n",
    "        for ep in range(epoch):\n",
    "            # Shuffle the training data\n",
    "            permutation = np.random.permutation(len(train_images))\n",
    "            train_images = train_images[permutation]\n",
    "            train_labels = train_labels[permutation]\n",
    "            for img, label in tqdm(zip(train_images, train_labels)):\n",
    "\n",
    "                ############################################################\n",
    "                # Feedforward phase                                        #\n",
    "                ############################################################\n",
    "\n",
    "                ## Convolution Layer C1\n",
    "                conv1 = Convolution2D(self.k1, self.b1, stride=1, padding=0)\n",
    "                C1, dC1S1 = conv1.feedforward(img)\n",
    "\n",
    "                ## Pooling Layer P1\n",
    "                maxpool = MaxPool(size=2)\n",
    "                P1, I1 = maxpool.feedforward(C1)\n",
    "\n",
    "                ## Convolution Layer C2\n",
    "                conv2 = Convolution3D(self.k2, self.b2, stride=1, padding=0)\n",
    "                C2, dC2S2, dS2P1 = conv2.feedforward(P1)\n",
    "\n",
    "                ## Pooling Layer P2\n",
    "                P2, I2 = maxpool.feedforward(C2)\n",
    "\n",
    "                ## FC Layer\n",
    "                f = P2.flatten()\n",
    "                O = self.softmax(np.dot(self.w, f) + self.b)\n",
    "\n",
    "\n",
    "                ############################################################\n",
    "                # Backpropagation phase                                    #\n",
    "                ############################################################\n",
    "\n",
    "                ## 1. Calculate gradients of parameters in the FC layer\n",
    "                dLS = np.copy(O)\n",
    "                dLS[label] = O[label] - 1\n",
    "                dLb = np.copy(dLS)\n",
    "\n",
    "                dLw = np.zeros(O.shape + f.shape, dtype=np.float64)\n",
    "                for i in range(O.shape[0]):\n",
    "                    dLw[i, :] = O[i] * f\n",
    "                    dLw[label, :] = (O[label] - 1) * f\n",
    "\n",
    "                    dLf = np.zeros(f.shape, dtype=np.float64)\n",
    "                for j in range(f.shape[0]):\n",
    "                    dLf[j] = np.sum(dLS * self.w[:, j])\n",
    "\n",
    "                dLP2 = dLf.reshape(P2.shape)\n",
    "\n",
    "\n",
    "\n",
    "                ## 2. Calculate gradients of parameters in the C2 layer\n",
    "\n",
    "                ### 2.1. Calculate dLC2\n",
    "                dLC2 = np.zeros(C2.shape, dtype=np.float64)\n",
    "\n",
    "                for m in range(P2.shape[0]):\n",
    "                    for x in range(P2.shape[1]):\n",
    "                        for y in range(P2.shape[2]):\n",
    "                            umax, vmax = I2[m, x, y]\n",
    "                            dLC2[m, umax, vmax] = dLP2[m, x, y]\n",
    "\n",
    "                ### 2.2. Calculate dLS2\n",
    "                dLS2 = dLC2 * dC2S2\n",
    "\n",
    "                ### 2.3. Calculate dLb2 and dLk2\n",
    "                dLb2 = np.zeros(self.k2.shape[0], dtype=np.float64)\n",
    "                dLk2 = np.zeros(self.k2.shape, dtype=np.float64)\n",
    "                for m in range(self.k2.shape[0]):\n",
    "                    dLb2[m] = np.sum(dLS2[m])\n",
    "                    for n in range(self.k2.shape[1]):\n",
    "                        for p in range(self.k2.shape[2]):\n",
    "                              for q in range(self.k2.shape[3]):\n",
    "                                    dLk2[m, n, p, q] = np.sum(dLS2[m] * P1[n][p:(p + C2.shape[1]), q:(q + C2.shape[2])])\n",
    "\n",
    "\n",
    "\n",
    "                ## 3. Calculate gradients of parameters in the C1 layer\n",
    "\n",
    "                ### 3.1. Calculate dLP1\n",
    "                dLP1 = np.zeros(P1.shape, dtype=np.float64)\n",
    "                for n in range(P1.shape[0]):\n",
    "                    for r in range(P1.shape[1]):\n",
    "                        for s in range(P1.shape[2]):\n",
    "                              dLP1[n, r, s] = np.sum(dLS2 * dS2P1[n, r, s])\n",
    "\n",
    "\n",
    "                ### 3.2. Calculate dLC1\n",
    "                dLC1 = np.zeros(C1.shape, dtype=np.float64)\n",
    "                for n in range(P1.shape[0]):\n",
    "                    for r in range(P1.shape[1]):\n",
    "                        for s in range(P1.shape[2]):\n",
    "                            imax, jmax = I1[n, r, s]\n",
    "                            dLC1[n, imax, jmax] = dLP1[n, r, s]\n",
    "\n",
    "                ### 3.3. Calculate dLS1\n",
    "                dLS1 = dLC1 * dC1S1\n",
    "\n",
    "                ### 3.4. Calculate dLb1 and dLk1\n",
    "                dLb1 = np.zeros(self.k1.shape[0], dtype=np.float64)\n",
    "                dLk1 = np.zeros(self.k1.shape, dtype=np.float64)\n",
    "                for n in range(self.k1.shape[0]):\n",
    "                    dLb1[n] = np.sum(dLS1[n])\n",
    "                    for g in range(self.k1.shape[1]):\n",
    "                        for h in range(self.k1.shape[2]):\n",
    "                            dLk1[n, g, h] = np.sum(dLS1[n] * img[g:(g + C1.shape[1]), h:(h + C1.shape[2])])\n",
    "\n",
    "\n",
    "                ## 4. Update parameters\n",
    "                self.k1 = self.k1 - lr * dLk1\n",
    "                self.b1 = self.b1 - lr * dLb1\n",
    "\n",
    "                self.k2 = self.k2 - lr * dLk2\n",
    "                self.b2 = self.b2 - lr * dLb2\n",
    "\n",
    "                self.w  = self.w  - lr * dLw\n",
    "                self.b  = self.b  - lr * dLb\n",
    "\n",
    "\n",
    "            losses = []\n",
    "            acc = 0\n",
    "            for img, label in zip(test_images, test_labels):\n",
    "                O = self.feedforward(img)\n",
    "                losses.append(-np.log(O[label]))\n",
    "                acc += 1 if np.argmax(O) == label else 0\n",
    "            losses = np.array(losses)\n",
    "\n",
    "            epochs.append(ep + 1)\n",
    "            avg_losses.append(losses.mean())\n",
    "            accuracy = 100 * acc / len(test_labels)\n",
    "            accuracies.append(accuracy)\n",
    "            print(\"Epoch: {}, validate_average_loss: {}, validate_accuracy: {:02.2f}%\".format(ep + 1, losses.mean(), accuracy))\n",
    "\n",
    "        return (epochs, avg_losses, accuracies)"
   ]
  },
  {
   "cell_type": "code",
   "execution_count": 81,
   "id": "dcbdc12c-65cf-4cd3-8a22-a8d576f1f2cf",
   "metadata": {
    "tags": []
   },
   "outputs": [
    {
     "name": "stderr",
     "output_type": "stream",
     "text": [
      "50it [05:15,  6.31s/it]\n"
     ]
    },
    {
     "name": "stdout",
     "output_type": "stream",
     "text": [
      "Epoch: 1, validate_average_loss: 1.1815198381126484, validate_accuracy: 35.35%\n"
     ]
    },
    {
     "name": "stderr",
     "output_type": "stream",
     "text": [
      "50it [05:14,  6.29s/it]\n"
     ]
    },
    {
     "name": "stdout",
     "output_type": "stream",
     "text": [
      "Epoch: 2, validate_average_loss: 1.0800077903448233, validate_accuracy: 35.35%\n"
     ]
    },
    {
     "name": "stderr",
     "output_type": "stream",
     "text": [
      "50it [05:11,  6.22s/it]\n"
     ]
    },
    {
     "name": "stdout",
     "output_type": "stream",
     "text": [
      "Epoch: 3, validate_average_loss: 1.0501081910652474, validate_accuracy: 35.35%\n"
     ]
    },
    {
     "name": "stderr",
     "output_type": "stream",
     "text": [
      "50it [03:28,  4.17s/it]\n"
     ]
    },
    {
     "name": "stdout",
     "output_type": "stream",
     "text": [
      "Epoch: 4, validate_average_loss: 1.0754395013637732, validate_accuracy: 36.36%\n"
     ]
    },
    {
     "name": "stderr",
     "output_type": "stream",
     "text": [
      "50it [02:54,  3.49s/it]\n"
     ]
    },
    {
     "name": "stdout",
     "output_type": "stream",
     "text": [
      "Epoch: 5, validate_average_loss: 1.0209235564879349, validate_accuracy: 49.49%\n"
     ]
    },
    {
     "name": "stderr",
     "output_type": "stream",
     "text": [
      "50it [02:53,  3.47s/it]\n"
     ]
    },
    {
     "name": "stdout",
     "output_type": "stream",
     "text": [
      "Epoch: 6, validate_average_loss: 1.0820764902792188, validate_accuracy: 42.42%\n"
     ]
    },
    {
     "name": "stderr",
     "output_type": "stream",
     "text": [
      "50it [02:53,  3.48s/it]\n"
     ]
    },
    {
     "name": "stdout",
     "output_type": "stream",
     "text": [
      "Epoch: 7, validate_average_loss: 0.8964336502849052, validate_accuracy: 59.60%\n"
     ]
    },
    {
     "name": "stderr",
     "output_type": "stream",
     "text": [
      "50it [02:57,  3.55s/it]\n"
     ]
    },
    {
     "name": "stdout",
     "output_type": "stream",
     "text": [
      "Epoch: 8, validate_average_loss: 1.049068975695804, validate_accuracy: 42.42%\n"
     ]
    },
    {
     "name": "stderr",
     "output_type": "stream",
     "text": [
      "50it [03:05,  3.71s/it]\n"
     ]
    },
    {
     "name": "stdout",
     "output_type": "stream",
     "text": [
      "Epoch: 9, validate_average_loss: 0.8415583727820438, validate_accuracy: 67.68%\n"
     ]
    },
    {
     "name": "stderr",
     "output_type": "stream",
     "text": [
      "50it [02:59,  3.58s/it]\n"
     ]
    },
    {
     "name": "stdout",
     "output_type": "stream",
     "text": [
      "Epoch: 10, validate_average_loss: 0.6443187643543636, validate_accuracy: 68.69%\n"
     ]
    },
    {
     "ename": "FileNotFoundError",
     "evalue": "[Errno 2] No such file or directory: 'artifacts/model.bin'",
     "output_type": "error",
     "traceback": [
      "\u001b[1;31m---------------------------------------------------------------------------\u001b[0m",
      "\u001b[1;31mFileNotFoundError\u001b[0m                         Traceback (most recent call last)",
      "Cell \u001b[1;32mIn[81], line 18\u001b[0m\n\u001b[0;32m     15\u001b[0m avg_losses \u001b[38;5;241m=\u001b[39m stats[\u001b[38;5;241m1\u001b[39m]\n\u001b[0;32m     16\u001b[0m accuracies \u001b[38;5;241m=\u001b[39m stats[\u001b[38;5;241m2\u001b[39m]\n\u001b[1;32m---> 18\u001b[0m \u001b[38;5;28;01mwith\u001b[39;00m \u001b[38;5;28mopen\u001b[39m(\u001b[38;5;124m\"\u001b[39m\u001b[38;5;124martifacts/model.bin\u001b[39m\u001b[38;5;124m\"\u001b[39m, \u001b[38;5;124m\"\u001b[39m\u001b[38;5;124mwb\u001b[39m\u001b[38;5;124m\"\u001b[39m) \u001b[38;5;28;01mas\u001b[39;00m f:\n\u001b[0;32m     19\u001b[0m     pickle\u001b[38;5;241m.\u001b[39mdump(cnn, f)\n\u001b[0;32m     21\u001b[0m fig \u001b[38;5;241m=\u001b[39m plt\u001b[38;5;241m.\u001b[39mfigure()\n",
      "File \u001b[1;32m~\\anaconda3\\Lib\\site-packages\\IPython\\core\\interactiveshell.py:286\u001b[0m, in \u001b[0;36m_modified_open\u001b[1;34m(file, *args, **kwargs)\u001b[0m\n\u001b[0;32m    279\u001b[0m \u001b[38;5;28;01mif\u001b[39;00m file \u001b[38;5;129;01min\u001b[39;00m {\u001b[38;5;241m0\u001b[39m, \u001b[38;5;241m1\u001b[39m, \u001b[38;5;241m2\u001b[39m}:\n\u001b[0;32m    280\u001b[0m     \u001b[38;5;28;01mraise\u001b[39;00m \u001b[38;5;167;01mValueError\u001b[39;00m(\n\u001b[0;32m    281\u001b[0m         \u001b[38;5;124mf\u001b[39m\u001b[38;5;124m\"\u001b[39m\u001b[38;5;124mIPython won\u001b[39m\u001b[38;5;124m'\u001b[39m\u001b[38;5;124mt let you open fd=\u001b[39m\u001b[38;5;132;01m{\u001b[39;00mfile\u001b[38;5;132;01m}\u001b[39;00m\u001b[38;5;124m by default \u001b[39m\u001b[38;5;124m\"\u001b[39m\n\u001b[0;32m    282\u001b[0m         \u001b[38;5;124m\"\u001b[39m\u001b[38;5;124mas it is likely to crash IPython. If you know what you are doing, \u001b[39m\u001b[38;5;124m\"\u001b[39m\n\u001b[0;32m    283\u001b[0m         \u001b[38;5;124m\"\u001b[39m\u001b[38;5;124myou can use builtins\u001b[39m\u001b[38;5;124m'\u001b[39m\u001b[38;5;124m open.\u001b[39m\u001b[38;5;124m\"\u001b[39m\n\u001b[0;32m    284\u001b[0m     )\n\u001b[1;32m--> 286\u001b[0m \u001b[38;5;28;01mreturn\u001b[39;00m io_open(file, \u001b[38;5;241m*\u001b[39margs, \u001b[38;5;241m*\u001b[39m\u001b[38;5;241m*\u001b[39mkwargs)\n",
      "\u001b[1;31mFileNotFoundError\u001b[0m: [Errno 2] No such file or directory: 'artifacts/model.bin'"
     ]
    }
   ],
   "source": [
    "import pickle\n",
    "\n",
    "np.set_printoptions(edgeitems=100, linewidth=200000)\n",
    "\n",
    "cnn = CNN(6, 12)\n",
    "\n",
    "train_images = images[0:50]\n",
    "train_labels = y_true[0:50]\n",
    "\n",
    "test_images = images[501:600]\n",
    "test_labels = y_true[501:600]\n",
    "\n",
    "stats = cnn.train(train_images, train_labels, test_images, test_labels, 10, 0.005)\n",
    "epochs = stats[0]\n",
    "avg_losses = stats[1]\n",
    "accuracies = stats[2]\n",
    "\n",
    "with open(\"artifacts/model.bin\", \"wb\") as f:\n",
    "    pickle.dump(cnn, f)\n",
    "\n"
   ]
  },
  {
   "cell_type": "code",
   "execution_count": 83,
   "id": "e6e91d8a-2f8c-4dfe-bc86-902a1ee7eaf1",
   "metadata": {
    "tags": []
   },
   "outputs": [
    {
     "data": {
      "image/png": "[encoded data removed]",
      "text/plain": [
       "<Figure size 640x480 with 2 Axes>"
      ]
     },
     "metadata": {},
     "output_type": "display_data"
    }
   ],
   "source": [
    "fig = plt.figure()\n",
    "plt.subplots_adjust(hspace=0.5)\n",
    "\n",
    "g1 = fig.add_subplot(2, 1, 1, ylabel=\"Loss\", xlabel=\"Epoch\")\n",
    "g1.plot(epochs, avg_losses, label=\"Avg loss\", color=\"red\")\n",
    "g1.legend(loc=\"center\")\n",
    "\n",
    "g2 = fig.add_subplot(2, 1, 2, ylabel=\"Accuracy\", xlabel=\"Epoch\")\n",
    "g2.plot(epochs, accuracies, label=\"Accuracy\", color=\"green\")\n",
    "g2.legend(loc=\"center\")\n",
    "\n",
    "plt.show()"
   ]
  },
  {
   "cell_type": "code",
   "execution_count": null,
   "id": "9007b72c-8419-4bca-8911-1c12649cd2dd",
   "metadata": {},
   "outputs": [],
   "source": []
  }
 ],
 "metadata": {
  "kernelspec": {
   "display_name": "Python 3 (ipykernel)",
   "language": "python",
   "name": "python3"
  },
  "language_info": {
   "codemirror_mode": {
    "name": "ipython",
    "version": 3
   },
   "file_extension": ".py",
   "mimetype": "text/x-python",
   "name": "python",
   "nbconvert_exporter": "python",
   "pygments_lexer": "ipython3",
   "version": "3.11.5"
  }
 },
 "nbformat": 4,
 "nbformat_minor": 5
}
