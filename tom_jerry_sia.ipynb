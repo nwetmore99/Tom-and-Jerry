{
 "cells": [
  {
   "cell_type": "markdown",
   "id": "d82f82f9-f9ff-401a-8c75-9061920b6f53",
   "metadata": {},
   "source": [
    "# Convolutional Neural Net From Scratch"
   ]
  },
  {
   "cell_type": "markdown",
   "id": "eb393524-6316-4412-a5f9-4fdda7c872af",
   "metadata": {},
   "source": [
    "For UCLA Math 156: Machine Learning with Prof. Lara Kassab, Spring 2024 \\\n",
    "Created by Sia Phulambrikar, Anya Smolentseva, and Nathan Wetmore"
   ]
  },
  {
   "cell_type": "markdown",
   "id": "568dab92-19fc-45ef-b0b8-383ce892c363",
   "metadata": {},
   "source": [
    "Note: to run this code please dowload the Tom and Jerry dataset from Kaggle [here](https://www.kaggle.com/datasets/balabaskar/tom-and-jerry-image-classification).\\\n",
    "You will need to drag all images from the four seperate class folders into a single new folder titled `frames`. The `frames` folder and the `ground_truths.csv` must be located in the same directory as this notebook."
   ]
  },
  {
   "cell_type": "markdown",
   "id": "f1df971b-5077-42ba-9c76-435914b6a5ae",
   "metadata": {
    "tags": []
   },
   "source": [
    "### Importing required libraries"
   ]
  },
  {
   "cell_type": "code",
   "execution_count": 11,
   "id": "b86394f2",
   "metadata": {
    "tags": []
   },
   "outputs": [],
   "source": [
    "#imports required for code\n",
    "import pandas as pd\n",
    "import cv2 #run pip install opencv-python\n",
    "import os\n",
    "import numpy as np\n",
    "from matplotlib import pyplot as plt\n",
    "from sklearn.model_selection import train_test_split\n",
    "import pandas as pd\n",
    "from tqdm import tqdm\n",
    "from PIL import Image\n",
    "import re"
   ]
  },
  {
   "cell_type": "markdown",
   "id": "f89148c4-25c6-4959-99ba-58bf39177c0c",
   "metadata": {},
   "source": [
    "### Image Preprocessing"
   ]
  },
  {
   "cell_type": "code",
   "execution_count": 12,
   "id": "f03d493b",
   "metadata": {
    "tags": []
   },
   "outputs": [
    {
     "name": "stderr",
     "output_type": "stream",
     "text": [
      "100%|██████████████████████████████████████| 5478/5478 [00:09<00:00, 569.89it/s]\n"
     ]
    },
    {
     "name": "stdout",
     "output_type": "stream",
     "text": [
      "(5478, 224, 224)\n"
     ]
    }
   ],
   "source": [
    "#set the image size we want to use\n",
    "desired_width = 224\n",
    "desired_height = 224\n",
    "\n",
    "# Read ground truth CSV\n",
    "labels_path = '/Users/sia/Library/CloudStorage/OneDrive-UCLAITServices/math 156/project/data/ground_truth.csv'\n",
    "img_path = '/Users/sia/Library/CloudStorage/OneDrive-UCLAITServices/math 156/project/data/images/'\n",
    "\n",
    "ground_truth = pd.read_csv(labels_path)\n",
    "\n",
    "temp = [img for img in os.listdir(img_path) if img.endswith(\".jpg\")]\n",
    "def extract_number(temp):\n",
    "    match = re.search(r'\\d+', temp)\n",
    "    return int(match.group()) if match else 0\n",
    "\n",
    "sorted_filenames = sorted(temp, key=extract_number)\n",
    "\n",
    "# Function to load and preprocess a single image\n",
    "def load_and_preprocess_image(filename):\n",
    "    img = cv2.imread(os.path.join(img_path, filename))\n",
    "    if img is not None:\n",
    "        if len(img.shape) == 2 or img.shape[2] == 1:\n",
    "            gray_img = img\n",
    "        else:\n",
    "            gray_img = cv2.cvtColor(img, cv2.COLOR_BGR2GRAY)\n",
    "        gray_img = cv2.resize(gray_img, (desired_width, desired_height))\n",
    "        gray_img = (gray_img / 255.0) - 0.5\n",
    "        return gray_img\n",
    "    else:\n",
    "        return None\n",
    "\n",
    "\n",
    "images = []\n",
    "\n",
    "for filename in tqdm(sorted_filenames):\n",
    "    img = load_and_preprocess_image(filename)\n",
    "    if img is not None:\n",
    "        images.append(img)\n",
    "\n",
    "# Convert images to a NumPy array\n",
    "images = np.array(images)\n",
    "\n",
    "# Check shapes to confirm everything is correct\n",
    "print(images.shape)"
   ]
  },
  {
   "cell_type": "markdown",
   "id": "afb63c39-3a3b-4fae-a03b-32bef95f128f",
   "metadata": {},
   "source": [
    "### Preprocessing Target Values"
   ]
  },
  {
   "cell_type": "code",
   "execution_count": 13,
   "id": "e44e5ba1-d1d7-4845-b345-7a0cf953b2ab",
   "metadata": {
    "tags": []
   },
   "outputs": [
    {
     "data": {
      "text/plain": [
       "(5478,)"
      ]
     },
     "execution_count": 13,
     "metadata": {},
     "output_type": "execute_result"
    }
   ],
   "source": [
    "#read in classifications\n",
    "y_true = pd.read_csv(labels_path)\n",
    "\n",
    "def class_creator(row):\n",
    "    '''\n",
    "    returns a class 0-3 for the 4 image classes\n",
    "    -row: dataframe row to be worked with\n",
    "    '''\n",
    "    #only tom is in the frame = class 0\n",
    "    if (row['tom'] == 1) & (row['jerry'] == 0):\n",
    "        val = 0\n",
    "    #only jerry is in the frame = class 1\n",
    "    elif (row['tom'] == 0) & (row['jerry'] == 1):\n",
    "        val = 1\n",
    "    #neither tom nor jerry is in the frame = class 2\n",
    "    elif (row['tom'] == 0) & (row['jerry'] == 0):\n",
    "        val = 2\n",
    "    #both tom and jerry are in the frame = class 3\n",
    "    else:\n",
    "        val = 3\n",
    "    return val\n",
    "\n",
    "ground_truth['class'] = ground_truth.apply(class_creator, axis=1)\n",
    "y_true = ground_truth['class'].values\n",
    "\n",
    "y_true.shape"
   ]
  },
  {
   "cell_type": "markdown",
   "id": "e5018afa-a7ed-4ac5-8253-35b85df5bf74",
   "metadata": {},
   "source": [
    "Due to limitations with computational power, we decided to train our model on 1000 rows of data, with a train-test-val split of 60-20-20."
   ]
  },
  {
   "cell_type": "code",
   "execution_count": 14,
   "id": "78f82e81-8d7e-4166-8b44-be626fced200",
   "metadata": {},
   "outputs": [
    {
     "name": "stdout",
     "output_type": "stream",
     "text": [
      "Training set: (500, 224, 224) (500,)\n",
      "Validation set: (167, 224, 224) (167,)\n",
      "Test set: (167, 224, 224) (167,)\n"
     ]
    }
   ],
   "source": [
    "#random subsampling of data\n",
    "random_permutation = np.random.permutation(images.shape[0])\n",
    "\n",
    "X = images[random_permutation]\n",
    "y = y_true[random_permutation]\n",
    "\n",
    "X = images[0:834]\n",
    "y = y_true[0:834]\n",
    "\n",
    "#splitting into train, test and validation sets\n",
    "X_train, X_val, y_train, y_val = train_test_split(X, y, test_size=0.4, random_state = 50)\n",
    "\n",
    "X_test, X_val, y_test, y_val = train_test_split(X_val, y_val, test_size=0.5, random_state = 50)\n",
    "\n",
    "print(\"Training set:\", X_train.shape, y_train.shape)\n",
    "print(\"Validation set:\", X_val.shape, y_val.shape) \n",
    "print(\"Test set:\", X_test.shape, y_test.shape)"
   ]
  },
  {
   "cell_type": "markdown",
   "id": "b7cfa86b-69b6-4dff-b509-826d05792826",
   "metadata": {
    "tags": []
   },
   "source": [
    "## Model Creation"
   ]
  },
  {
   "cell_type": "markdown",
   "id": "6010d651-b189-485a-ad07-3e2b723db900",
   "metadata": {},
   "source": [
    "### Convolution Layer"
   ]
  },
  {
   "cell_type": "code",
   "execution_count": 30,
   "id": "bf285396-577f-4858-b8ef-47a4f4ce408c",
   "metadata": {
    "tags": []
   },
   "outputs": [],
   "source": [
    "class Conv2D:\n",
    "    def __init__(self, num_filters):\n",
    "        self.num_filters = num_filters\n",
    "        self.filters = np.random.randn(num_filters, 3, 3) / 9 \n",
    "        \n",
    "    def iterate_regions(self,image):\n",
    "        '''\n",
    "        iterates over 2*2 regions of an image to apply Conv Layer\n",
    "        '''\n",
    "        h, w = image.shape\n",
    "        for i in range(h-2):\n",
    "            for j in range (w-2):\n",
    "                region = image[i:(i+3), j:(j+3)]\n",
    "                yield region, i, j\n",
    "                \n",
    "    def forward(self, input_val):\n",
    "        '''\n",
    "        computes forward pass for the Convolutional layer\n",
    "        '''\n",
    "        self.last_input = input_val\n",
    "        h, w = input_val.shape\n",
    "        output = np.zeros ((h-2,w-2,self.num_filters))\n",
    "        for region, i, j in self.iterate_regions(input_val):\n",
    "            output[i,j] = np.sum(region * self.filters, axis=(1,2))\n",
    "        \n",
    "        return output\n",
    "    \n",
    "    def backprop(self, dL_dout, learn_rate):\n",
    "        '''\n",
    "        Performs a backward pass of the Convolutional layer\n",
    "        '''\n",
    "        dL_dfilters = np.zeros(self.filters.shape)\n",
    "\n",
    "        for im_region, i, j in self.iterate_regions(self.last_input):\n",
    "            for f in range(self.num_filters):\n",
    "                dL_dfilters[f] += dL_dout[i, j, f] * im_region\n",
    "\n",
    "        # update filters based on loss gradient with respect to filters\n",
    "        self.filters -= learn_rate * dL_dfilters\n",
    "\n",
    "        return None\n"
   ]
  },
  {
   "cell_type": "markdown",
   "id": "11a1251b-44da-4831-9390-f84a274bf4b8",
   "metadata": {},
   "source": [
    "### Pooling Layer"
   ]
  },
  {
   "cell_type": "code",
   "execution_count": 31,
   "id": "e95067eb-d92f-4ca2-adef-fcb68f5a4be6",
   "metadata": {
    "tags": []
   },
   "outputs": [],
   "source": [
    "class MaxPooling2D:\n",
    "    def iterate_regions(self, image):\n",
    "        '''\n",
    "        iterates over 2*2 regions of an image to apply MaxPool Layer\n",
    "        '''\n",
    "        h, w, _ = image.shape\n",
    "        new_h = h // 2\n",
    "        new_w = w // 2\n",
    "\n",
    "        for i in range(new_h):\n",
    "            for j in range(new_w):\n",
    "                region = image[(i * 2):(i * 2 + 2), (j * 2):(j * 2 + 2)]\n",
    "                yield region, i, j\n",
    "            \n",
    "    def forward(self, input_val):\n",
    "        '''\n",
    "        computes forward pass for the MaxPool layer\n",
    "        '''\n",
    "        self.last_input = input_val\n",
    "\n",
    "        h, w, num_filters = input_val.shape\n",
    "        output = np.zeros((h // 2, w // 2, num_filters))\n",
    "\n",
    "        for im_region, i, j in self.iterate_regions(input_val):\n",
    "            output[i, j] = np.amax(im_region, axis=(0, 1))\n",
    "\n",
    "        return output\n",
    "    \n",
    "    def backprop(self, dL_dout):\n",
    "        '''\n",
    "        computes backprop pass for the MaxPool layer\n",
    "        '''\n",
    "        dL_dinput = np.zeros(self.last_input.shape)\n",
    "\n",
    "        for im_region, i, j in self.iterate_regions(self.last_input):\n",
    "            h, w, f = im_region.shape\n",
    "            amax = np.amax(im_region, axis=(0, 1))\n",
    "\n",
    "            for i2 in range(h):\n",
    "                for j2 in range(w):\n",
    "                    for f2 in range(f):\n",
    "                        # If this pixel was the max value, copy the gradient to it.\n",
    "                        if im_region[i2, j2, f2] == amax[f2]:\n",
    "                            dL_dinput[i * 2 + i2, j * 2 + j2, f2] = dL_dout[i, j, f2]\n",
    "\n",
    "        return dL_dinput"
   ]
  },
  {
   "cell_type": "markdown",
   "id": "5a7d6777-e46c-42f2-812c-98b4e412648f",
   "metadata": {},
   "source": [
    "### Dense Softmax Layer"
   ]
  },
  {
   "cell_type": "code",
   "execution_count": 32,
   "id": "c330d682-1c88-45d2-ab4a-7b1267ff5afb",
   "metadata": {
    "tags": []
   },
   "outputs": [],
   "source": [
    "class Softmax:\n",
    "  #Final layer with Softmax activation\n",
    "\n",
    "    def __init__(self, input_len, nodes):\n",
    "        self.weights = np.random.randn(input_len, nodes) / input_len\n",
    "        self.biases = np.zeros(nodes)\n",
    "\n",
    "    def forward(self, input):\n",
    "        '''\n",
    "        computes forward pass for the Softmax layer\n",
    "        '''\n",
    "        self.last_input_shape = input.shape\n",
    "\n",
    "        input = input.flatten()\n",
    "        self.last_input = input\n",
    "        \n",
    "        input_len, nodes = self.weights.shape\n",
    "\n",
    "        totals = np.dot(input, self.weights) + self.biases\n",
    "        self.last_totals = totals\n",
    "\n",
    "        exp = np.exp(totals)\n",
    "        return exp / np.sum(exp, axis=0)\n",
    "\n",
    "    def backprop(self, dL_dout, learn_rate):\n",
    "        '''\n",
    "        computes backward pass for the Softmax layer\n",
    "        '''\n",
    "        for i, gradient in enumerate(dL_dout):\n",
    "            if gradient == 0:\n",
    "                continue\n",
    "\n",
    "        t_exp = np.exp(self.last_totals)\n",
    "        S = np.sum(t_exp)\n",
    "\n",
    "        dout_dt = -t_exp[i] * t_exp / (S ** 2)\n",
    "        dout_dt[i] = t_exp[i] * (S - t_exp[i]) / (S ** 2)\n",
    "\n",
    "        dt_dw = self.last_input\n",
    "        dt_db = 1\n",
    "        dt_dinputs = self.weights\n",
    "\n",
    "        # Gradients of loss against totals\n",
    "        dL_dt = gradient * dout_dt\n",
    "\n",
    "        # Gradients of loss against weights/biases/input\n",
    "        dL_dw = dt_dw[np.newaxis].T @ dL_dt[np.newaxis]\n",
    "        dL_db = dL_dt * dt_db\n",
    "        dL_dinputs = dt_dinputs @ dL_dt\n",
    "\n",
    "        # Update weights / biases\n",
    "        self.weights -= learn_rate * dL_dw\n",
    "        self.biases -= learn_rate * dL_db\n",
    "\n",
    "        return dL_dinputs.reshape(self.last_input_shape)"
   ]
  },
  {
   "cell_type": "markdown",
   "id": "a478eb6f-e9a9-4cf1-b7ce-28b0b0417398",
   "metadata": {},
   "source": [
    "### The Model Class"
   ]
  },
  {
   "cell_type": "code",
   "execution_count": 33,
   "id": "81946a54-4ead-470d-b10e-02bb6c768e4b",
   "metadata": {
    "tags": []
   },
   "outputs": [],
   "source": [
    "class CNN: \n",
    "    #CNN model class with functions to train model, generate model plots and predictions\n",
    "    def __init__(self,num_filters,img_size,num_classes):\n",
    "        self.num_filters = num_filters\n",
    "        self.num_classes = num_classes\n",
    "        self.test = 2\n",
    "        self.conv = Conv2D(self.num_filters)                  \n",
    "        self.pool = MaxPooling2D()                  \n",
    "        self.softmax = Softmax(111 * 111 * self.num_filters, \n",
    "                               self.num_classes)\n",
    "    \n",
    "    def forward(self, image, label):\n",
    "        '''\n",
    "        computes forward pass for the CNN, with 1 Conv Layer, 1 Pooling Layer and a Final Softmax layer\n",
    "        '''\n",
    "        out = self.conv.forward(image)\n",
    "        out = self.pool.forward(out)\n",
    "        out = self.softmax.forward(out)\n",
    "\n",
    "        #calculate cross entropy loss and accuracy\n",
    "        loss = -np.log(out[label])\n",
    "        acc = 1 if np.argmax(out) == label else 0\n",
    "\n",
    "        return out, loss, acc\n",
    "\n",
    "    def train_im(self, im, label, lr=.005):\n",
    "        '''\n",
    "        computes backward pass and trains model on a single image\n",
    "        '''\n",
    "        #forward pass\n",
    "        out, loss, acc = self.forward(im, label)\n",
    "\n",
    "        #calculating gradient\n",
    "        gradient = np.zeros(4)\n",
    "        gradient[label] = -1 / out[label]\n",
    "\n",
    "        #performing backprop\n",
    "        gradient = self.softmax.backprop(gradient, lr)\n",
    "        gradient = self.pool.backprop(gradient)\n",
    "        gradient = self.conv.backprop(gradient, lr)\n",
    "\n",
    "        return loss, acc\n",
    "    \n",
    "    def train_model(self, X_train, y_train, X_val, y_val, epochs, lr = 0.005):\n",
    "        '''\n",
    "        - trains model on a complete dataset X_train\n",
    "        - evaluates model on validation set X_val\n",
    "        '''\n",
    "        self.epochs = epochs\n",
    "        val_loss_history = []\n",
    "        train_loss_history = []\n",
    "        \n",
    "        for epoch in range(epochs):\n",
    "            print('--- Epoch %d ---' % (epoch + 1))\n",
    "\n",
    "            permutation = np.random.permutation(len(X_train))\n",
    "            X_train = X_train[permutation]\n",
    "            y_train = y_train[permutation]\n",
    "            \n",
    "            # Train!\n",
    "            loss = 0\n",
    "            n_correct = 0\n",
    "\n",
    "            #record avg loss and accuracy every 100 steps\n",
    "            epoch_loss_history = []\n",
    "            epoch_acc_history = []\n",
    "            \n",
    "            for i, (im, label) in enumerate(zip(X_train, y_train)):\n",
    "              if i % 100 == 99: \n",
    "                  avg_loss = loss/100\n",
    "                  print(\n",
    "                      '[Step %d] Past 100 steps: Average Loss %.3f | Accuracy: %d%%' %\n",
    "                      (i + 1, avg_loss, n_correct)\n",
    "                  )\n",
    "                  \n",
    "                  epoch_loss_history.append(avg_loss) \n",
    "                  epoch_acc_history.append(n_correct)\n",
    "                  loss = 0\n",
    "                  n_correct = 0\n",
    "        \n",
    "              l, acc = mymodel.train_im(im, label)\n",
    "              loss += l\n",
    "              n_correct += acc\n",
    "\n",
    "            train_loss_history.append(np.nanmean(epoch_loss_history))\n",
    "\n",
    "            #Evaluating on validation set\n",
    "            val_loss = 0\n",
    "            val_correct = 0\n",
    "            for i, (im, label) in enumerate(zip(X_val, y_val)):\n",
    "                _, l, acc = self.forward(im, label)\n",
    "                val_loss += l\n",
    "                val_correct += acc\n",
    "                \n",
    "            val_loss = val_loss/len(y_val)\n",
    "            val_acc = val_correct/len(y_val)\n",
    "            val_loss_history.append(val_loss)\n",
    "\n",
    "            print('[Epoch %d]: Training Loss %.3f | Training Accuracy %d%%' %\n",
    "                  (epoch + 1, np.nanmean(epoch_loss_history), np.nanmean(epoch_acc_history)))\n",
    "\n",
    "            print('[Epoch %d]: Validation Loss %.3f | Validation Accuracy %d%%' %\n",
    "                  (epoch + 1, val_loss, val_acc*100))\n",
    "            \n",
    "\n",
    "        self.train_loss_history = train_loss_history\n",
    "        self.val_loss_history = val_loss_history\n",
    "\n",
    "        return None\n",
    "        \n",
    "            \n",
    "\n",
    "    def plot_model(self):\n",
    "        '''\n",
    "        - Plots average training loss history over Epochs\n",
    "        - Plots average validation loss history over Epochs\n",
    "        '''\n",
    "        fig, axs = plt.subplots(2, constrained_layout = True)\n",
    "        #plotting training loss\n",
    "        axs[0].plot(range(1, self.epochs + 1), self.train_loss_history)\n",
    "        axs[0].set_title('Training Loss over Time')\n",
    "        axs[0].set_xlabel('Epochs')\n",
    "        axs[0].set_ylabel('Average Loss')\n",
    "        \n",
    "\n",
    "        #plotting validation loss\n",
    "        axs[1].plot(range(1, self.epochs + 1), self.val_loss_history)\n",
    "        axs[1].set_title('Validation Loss over Time')\n",
    "        axs[1].set_xlabel('Epochs')\n",
    "        axs[1].set_ylabel('Average Loss')\n",
    "        \n",
    "        fig.tight_layout()\n",
    "        plt.show()\n",
    "        \n",
    "        print(self.val_loss_history)\n",
    "        return None\n",
    "            \n",
    "            \n",
    "    def predict(self, X, y):\n",
    "        '''\n",
    "        Computes forward pass of trained model to generate:\n",
    "        - y_pred: array of predicted class labels\n",
    "        - test_loss: average loss on test set\n",
    "        - test accuracy: accuracy on test set\n",
    "        '''\n",
    "        y_pred = []\n",
    "        \n",
    "        for i, (im, label) in enumerate(zip(X, y)):\n",
    "            out, l, acc = self.forward(im, label)\n",
    "            pred = np.argmax(out)\n",
    "            y_pred.append(pred)\n",
    "            test_loss += l\n",
    "            n_correct += acc\n",
    "        test_loss = test_loss/len(y)\n",
    "        test_acc = n_correct/len(y)\n",
    "        \n",
    "        return y_pred, test_loss, test_acc"
   ]
  },
  {
   "cell_type": "markdown",
   "id": "442ecc1c-ce00-4eda-aa5a-13cd1625a1e5",
   "metadata": {},
   "source": [
    "## Running the Model"
   ]
  },
  {
   "cell_type": "code",
   "execution_count": 34,
   "id": "3a90ae00-9297-4b6d-b97b-867f87f32292",
   "metadata": {
    "tags": []
   },
   "outputs": [],
   "source": [
    "mymodel = CNN(8, X_train[0].shape,4)"
   ]
  },
  {
   "cell_type": "code",
   "execution_count": 35,
   "id": "7785bf3b-ee29-49b7-85db-7582ae14caea",
   "metadata": {},
   "outputs": [
    {
     "name": "stdout",
     "output_type": "stream",
     "text": [
      "--- Epoch 1 ---\n",
      "[Step 100] Past 100 steps: Average Loss 3.825 | Accuracy: 16%\n",
      "[Step 200] Past 100 steps: Average Loss 4.816 | Accuracy: 21%\n",
      "[Step 300] Past 100 steps: Average Loss 5.155 | Accuracy: 22%\n",
      "[Step 400] Past 100 steps: Average Loss 5.150 | Accuracy: 14%\n",
      "[Step 500] Past 100 steps: Average Loss 5.858 | Accuracy: 26%\n",
      "[Epoch 1]: Training Loss 4.961 | Training Accuracy 19%\n",
      "[Epoch 1]: Validation Loss 6.403 | Validation Accuracy 19%\n",
      "--- Epoch 2 ---\n",
      "[Step 100] Past 100 steps: Average Loss 6.579 | Accuracy: 19%\n",
      "[Step 200] Past 100 steps: Average Loss 6.334 | Accuracy: 28%\n",
      "[Step 300] Past 100 steps: Average Loss 7.342 | Accuracy: 21%\n",
      "[Step 400] Past 100 steps: Average Loss 7.479 | Accuracy: 17%\n",
      "[Step 500] Past 100 steps: Average Loss 9.063 | Accuracy: 18%\n",
      "[Epoch 2]: Training Loss 7.360 | Training Accuracy 20%\n",
      "[Epoch 2]: Validation Loss 12.351 | Validation Accuracy 18%\n",
      "--- Epoch 3 ---\n",
      "[Step 100] Past 100 steps: Average Loss 10.940 | Accuracy: 25%\n",
      "[Step 200] Past 100 steps: Average Loss 13.622 | Accuracy: 16%\n",
      "[Step 300] Past 100 steps: Average Loss 13.125 | Accuracy: 23%\n",
      "[Step 400] Past 100 steps: Average Loss 11.593 | Accuracy: 21%\n",
      "[Step 500] Past 100 steps: Average Loss 12.050 | Accuracy: 17%\n",
      "[Epoch 3]: Training Loss 12.266 | Training Accuracy 20%\n",
      "[Epoch 3]: Validation Loss 9.204 | Validation Accuracy 17%\n",
      "--- Epoch 4 ---\n",
      "[Step 100] Past 100 steps: Average Loss 8.154 | Accuracy: 21%\n",
      "[Step 200] Past 100 steps: Average Loss 9.930 | Accuracy: 16%\n",
      "[Step 300] Past 100 steps: Average Loss 8.905 | Accuracy: 25%\n",
      "[Step 400] Past 100 steps: Average Loss 10.014 | Accuracy: 21%\n",
      "[Step 500] Past 100 steps: Average Loss 11.269 | Accuracy: 12%\n",
      "[Epoch 4]: Training Loss 9.655 | Training Accuracy 19%\n",
      "[Epoch 4]: Validation Loss 10.049 | Validation Accuracy 17%\n",
      "--- Epoch 5 ---\n",
      "[Step 100] Past 100 steps: Average Loss 10.328 | Accuracy: 17%\n",
      "[Step 200] Past 100 steps: Average Loss 9.825 | Accuracy: 23%\n",
      "[Step 300] Past 100 steps: Average Loss 10.332 | Accuracy: 15%\n",
      "[Step 400] Past 100 steps: Average Loss 9.985 | Accuracy: 23%\n",
      "[Step 500] Past 100 steps: Average Loss 10.607 | Accuracy: 19%\n",
      "[Epoch 5]: Training Loss 10.215 | Training Accuracy 19%\n",
      "[Epoch 5]: Validation Loss 10.342 | Validation Accuracy 17%\n"
     ]
    }
   ],
   "source": [
    "mymodel.train_model(X_train,y_train,X_val,y_val,5)"
   ]
  },
  {
   "cell_type": "code",
   "execution_count": 36,
   "id": "6cb70066-4388-4425-873f-54a0e94e0058",
   "metadata": {},
   "outputs": [
    {
     "name": "stderr",
     "output_type": "stream",
     "text": [
      "/var/folders/r5/55cb78bs6pd2z_jpq12sl0mr0000gn/T/ipykernel_5076/3717891136.py:131: UserWarning: The figure layout has changed to tight\n",
      "  fig.tight_layout()\n"
     ]
    },
    {
     "data": {
      "image/png": "[encoded data removed]",
      "text/plain": [
       "<Figure size 640x480 with 2 Axes>"
      ]
     },
     "metadata": {},
     "output_type": "display_data"
    },
    {
     "name": "stdout",
     "output_type": "stream",
     "text": [
      "[6.402662172191085, 12.350769352354114, 9.204389286916687, 10.048788711996398, 10.341874482433658]\n"
     ]
    }
   ],
   "source": [
    "mymodel.plot_model()"
   ]
  }
 ],
 "metadata": {
  "kernelspec": {
   "display_name": "Python 3 (ipykernel)",
   "language": "python",
   "name": "python3"
  },
  "language_info": {
   "codemirror_mode": {
    "name": "ipython",
    "version": 3
   },
   "file_extension": ".py",
   "mimetype": "text/x-python",
   "name": "python",
   "nbconvert_exporter": "python",
   "pygments_lexer": "ipython3",
   "version": "3.11.3"
  }
 },
 "nbformat": 4,
 "nbformat_minor": 5
}
