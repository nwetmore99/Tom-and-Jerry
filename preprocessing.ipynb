{
 "cells": [
  {
   "cell_type": "code",
   "execution_count": 48,
   "id": "ed2c6c45-b612-4ca5-855d-a79c8d17ad8e",
   "metadata": {},
   "outputs": [],
   "source": [
    "import pandas as pd\n",
    "import numpy as np\n",
    "import cv2 #run pip install opencv-python\n",
    "import os\n",
    "import re"
   ]
  },
  {
   "cell_type": "code",
   "execution_count": 49,
   "id": "b32bd8f9-f71a-4602-ab45-aef94f6ad473",
   "metadata": {},
   "outputs": [],
   "source": [
    "label_path = '/Users/sia/Library/CloudStorage/OneDrive-UCLAITServices/math 156/project/data/ground_truth.csv'\n",
    "\n",
    "#put all images in a single file\n",
    "img_path = '/Users/sia/Library/CloudStorage/OneDrive-UCLAITServices/math 156/project/data/images/'"
   ]
  },
  {
   "cell_type": "markdown",
   "id": "bbfad7c2-1a60-40e5-abad-56b019bb8bd9",
   "metadata": {},
   "source": [
    "#### Adding Class Labels "
   ]
  },
  {
   "cell_type": "code",
   "execution_count": 50,
   "id": "61074867-0688-4b81-9bab-f324e48e3660",
   "metadata": {},
   "outputs": [],
   "source": [
    "df = pd.read_csv(label_path)"
   ]
  },
  {
   "cell_type": "markdown",
   "id": "b61e0768-b819-4753-8dcf-bbcc37f3f6a6",
   "metadata": {},
   "source": [
    "- Class 0: neither tom nor jerry\n",
    "- Class 1: both tom and jerry\n",
    "- Class 2: tom\n",
    "- Class 3: jerry"
   ]
  },
  {
   "cell_type": "code",
   "execution_count": 51,
   "id": "da87e624-ab95-4e01-ba88-884fdc4a5d64",
   "metadata": {},
   "outputs": [
    {
     "name": "stderr",
     "output_type": "stream",
     "text": [
      "/var/folders/r5/55cb78bs6pd2z_jpq12sl0mr0000gn/T/ipykernel_1903/405183473.py:2: SettingWithCopyWarning: \n",
      "A value is trying to be set on a copy of a slice from a DataFrame\n",
      "\n",
      "See the caveats in the documentation: https://pandas.pydata.org/pandas-docs/stable/user_guide/indexing.html#returning-a-view-versus-a-copy\n",
      "  df['label'].loc[(df['tom']==0) & (df['jerry']==0)] = 0\n",
      "/var/folders/r5/55cb78bs6pd2z_jpq12sl0mr0000gn/T/ipykernel_1903/405183473.py:3: SettingWithCopyWarning: \n",
      "A value is trying to be set on a copy of a slice from a DataFrame\n",
      "\n",
      "See the caveats in the documentation: https://pandas.pydata.org/pandas-docs/stable/user_guide/indexing.html#returning-a-view-versus-a-copy\n",
      "  df['label'].loc[(df['tom']==1) & (df['jerry']==1)] = 1\n",
      "/var/folders/r5/55cb78bs6pd2z_jpq12sl0mr0000gn/T/ipykernel_1903/405183473.py:4: SettingWithCopyWarning: \n",
      "A value is trying to be set on a copy of a slice from a DataFrame\n",
      "\n",
      "See the caveats in the documentation: https://pandas.pydata.org/pandas-docs/stable/user_guide/indexing.html#returning-a-view-versus-a-copy\n",
      "  df['label'].loc[(df['tom']==1) & (df['jerry']==0)] = 2\n",
      "/var/folders/r5/55cb78bs6pd2z_jpq12sl0mr0000gn/T/ipykernel_1903/405183473.py:5: SettingWithCopyWarning: \n",
      "A value is trying to be set on a copy of a slice from a DataFrame\n",
      "\n",
      "See the caveats in the documentation: https://pandas.pydata.org/pandas-docs/stable/user_guide/indexing.html#returning-a-view-versus-a-copy\n",
      "  df['label'].loc[(df['tom']==0) & (df['jerry']==1)] = 3\n"
     ]
    }
   ],
   "source": [
    "df['label'] = 0\n",
    "df['label'].loc[(df['tom']==0) & (df['jerry']==0)] = 0\n",
    "df['label'].loc[(df['tom']==1) & (df['jerry']==1)] = 1\n",
    "df['label'].loc[(df['tom']==1) & (df['jerry']==0)] = 2\n",
    "df['label'].loc[(df['tom']==0) & (df['jerry']==1)] = 3"
   ]
  },
  {
   "cell_type": "markdown",
   "id": "5198d2f1-7e66-4553-a339-179f6e584a5c",
   "metadata": {},
   "source": [
    "#### Reading Image Data"
   ]
  },
  {
   "cell_type": "code",
   "execution_count": 52,
   "id": "b89104c9-223c-4f15-a702-3e2fe86a3209",
   "metadata": {},
   "outputs": [],
   "source": [
    "desired_width = 224  # these can be changed\n",
    "desired_height = 224"
   ]
  },
  {
   "cell_type": "code",
   "execution_count": 53,
   "id": "7717fa9f-5506-4e41-a2cc-9727cad2c3c2",
   "metadata": {},
   "outputs": [],
   "source": [
    "images = []\n",
    "temp = [img for img in os.listdir(path) if img.endswith(\".jpg\")]\n",
    "\n",
    "def extract_number(temp):\n",
    "    match = re.search(r'\\d+', temp)\n",
    "    return int(match.group()) if match else 0\n",
    "\n",
    "sorted_filenames = sorted(temp, key=extract_number)\n",
    "\n",
    "for i in sorted_filenames:\n",
    "    img = cv2.imread(os.path.join(path, i))\n",
    "    img = cv2.resize(img, (desired_width, desired_height))\n",
    "    img = img / 255.0  # Normalize pixel values to [0, 1]\n",
    "    images.append(img)"
   ]
  },
  {
   "cell_type": "code",
   "execution_count": 54,
   "id": "58482b89-3d66-4e28-9d08-57332b7b316c",
   "metadata": {},
   "outputs": [],
   "source": [
    "images = np.array(images)"
   ]
  },
  {
   "cell_type": "code",
   "execution_count": 55,
   "id": "1bd5f13c-62b7-4be4-aec4-e28426c6984f",
   "metadata": {},
   "outputs": [
    {
     "data": {
      "text/plain": [
       "(5478, 224, 224, 3)"
      ]
     },
     "execution_count": 55,
     "metadata": {},
     "output_type": "execute_result"
    }
   ],
   "source": [
    "images.shape"
   ]
  }
 ],
 "metadata": {
  "kernelspec": {
   "display_name": "Python 3 (ipykernel)",
   "language": "python",
   "name": "python3"
  },
  "language_info": {
   "codemirror_mode": {
    "name": "ipython",
    "version": 3
   },
   "file_extension": ".py",
   "mimetype": "text/x-python",
   "name": "python",
   "nbconvert_exporter": "python",
   "pygments_lexer": "ipython3",
   "version": "3.11.3"
  }
 },
 "nbformat": 4,
 "nbformat_minor": 5
}
