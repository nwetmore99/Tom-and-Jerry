{
 "cells": [
  {
   "cell_type": "markdown",
   "id": "d82f82f9-f9ff-401a-8c75-9061920b6f53",
   "metadata": {},
   "source": [
    "# Convolutional Nueral Net From Scratch"
   ]
  },
  {
   "cell_type": "markdown",
   "id": "eb393524-6316-4412-a5f9-4fdda7c872af",
   "metadata": {},
   "source": [
    "For UCLA Math 156: Machine Learning with Prof. Lara Kassab, Spring 2024 \\\n",
    "Created by Sia Phulambrikar, Anya Smolentseva, and Nathan Wetmore"
   ]
  },
  {
   "cell_type": "markdown",
   "id": "f1df971b-5077-42ba-9c76-435914b6a5ae",
   "metadata": {
    "tags": []
   },
   "source": [
    "## Imports and Data Preprocessing"
   ]
  },
  {
   "cell_type": "markdown",
   "id": "568dab92-19fc-45ef-b0b8-383ce892c363",
   "metadata": {},
   "source": [
    "Note: to run this code please dowload the Tom and Jerry dataset from Kaggle [here](https://www.kaggle.com/datasets/balabaskar/tom-and-jerry-image-classification).\\\n",
    "You will need to drag all images from the four seperate class folders into a single new folder titled `frames`. The `frames` folder and the `ground_truths.csv` must be located in the same directory as this notebook."
   ]
  },
  {
   "cell_type": "code",
   "execution_count": 14,
   "id": "b86394f2",
   "metadata": {
    "tags": []
   },
   "outputs": [],
   "source": [
    "#imports required for code\n",
    "import pandas as pd\n",
    "import cv2 #run pip install opencv-python\n",
    "import os\n",
    "import numpy as np\n",
    "from matplotlib import pyplot as plt\n",
    "import pandas as pd\n",
    "from tqdm import tqdm\n",
    "from PIL import Image\n",
    "from sklearn.model_selection import train_test_split\n",
    "from tensorflow.keras.utils import to_categorical\n",
    "from tensorflow.keras.models import Sequential\n",
    "from tensorflow.keras.layers import Conv2D, MaxPooling2D, Flatten, Dense, Dropout\n",
    "from tensorflow.keras.optimizers import Adam"
   ]
  },
  {
   "cell_type": "markdown",
   "id": "f89148c4-25c6-4959-99ba-58bf39177c0c",
   "metadata": {},
   "source": [
    "### Image Samples"
   ]
  },
  {
   "cell_type": "code",
   "execution_count": 15,
   "id": "f03d493b",
   "metadata": {
    "tags": []
   },
   "outputs": [],
   "source": [
    "#set the image size we want to use\n",
    "desired_width = 100\n",
    "desired_height = 100"
   ]
  },
  {
   "cell_type": "code",
   "execution_count": 6,
   "id": "2bec50d5",
   "metadata": {
    "tags": []
   },
   "outputs": [
    {
     "name": "stderr",
     "output_type": "stream",
     "text": [
      "100%|██████████████████████████████████████████████████████████████████████████████| 5478/5478 [01:39<00:00, 55.30it/s]\n"
     ]
    },
    {
     "name": "stdout",
     "output_type": "stream",
     "text": [
      "(5478, 100, 100)\n"
     ]
    }
   ],
   "source": [
    "# Read ground truth CSV\n",
    "ground_truth = pd.read_csv('ground_truth.csv')\n",
    "\n",
    "# Sort the CSV by filename\n",
    "#ground_truth = ground_truth.sort_values(by='filename').reset_index(drop=True)\n",
    "\n",
    "# Get sorted list of filenames\n",
    "csv_filenames = ground_truth['filename'].values\n",
    "\n",
    "# Function to load and preprocess a single image\n",
    "def load_and_preprocess_image(filename):\n",
    "    img = cv2.imread(os.path.join('images', filename))\n",
    "    if img is not None:\n",
    "        if len(img.shape) == 2 or img.shape[2] == 1:\n",
    "            gray_img = img\n",
    "        else:\n",
    "            gray_img = cv2.cvtColor(img, cv2.COLOR_BGR2GRAY)\n",
    "        gray_img = cv2.resize(gray_img, (desired_width, desired_height))\n",
    "        gray_img = gray_img / 255.0\n",
    "        return gray_img\n",
    "    else:\n",
    "        return None\n",
    "\n",
    "# Load images in the order specified by the CSV file\n",
    "images = []\n",
    "for filename in tqdm(csv_filenames):\n",
    "    img = load_and_preprocess_image(filename)\n",
    "    if img is not None:\n",
    "        images.append(img)\n",
    "\n",
    "# Convert images to a NumPy array\n",
    "images = np.array(images)\n",
    "\n",
    "# Check shapes to confirm everything is correct\n",
    "print(images.shape)\n"
   ]
  },
  {
   "cell_type": "code",
   "execution_count": 7,
   "id": "da3dd3d0",
   "metadata": {
    "tags": []
   },
   "outputs": [
    {
     "data": {
      "text/plain": [
       "<matplotlib.image.AxesImage at 0x28c388738d0>"
      ]
     },
     "execution_count": 7,
     "metadata": {},
     "output_type": "execute_result"
    },
    {
     "data": {
      "image/png": "[encoded data removed]",
      "text/plain": [
       "<Figure size 640x480 with 1 Axes>"
      ]
     },
     "metadata": {},
     "output_type": "display_data"
    }
   ],
   "source": [
    "plt.imshow(images[4],cmap='gray')"
   ]
  },
  {
   "cell_type": "code",
   "execution_count": 8,
   "id": "3b7d068f-2664-4b70-83db-aa7d2a62fe45",
   "metadata": {
    "tags": []
   },
   "outputs": [
    {
     "data": {
      "text/plain": [
       "(5478, 100, 100)"
      ]
     },
     "execution_count": 8,
     "metadata": {},
     "output_type": "execute_result"
    }
   ],
   "source": [
    "images.shape"
   ]
  },
  {
   "cell_type": "markdown",
   "id": "afb63c39-3a3b-4fae-a03b-32bef95f128f",
   "metadata": {},
   "source": [
    "### Target Values"
   ]
  },
  {
   "cell_type": "code",
   "execution_count": 9,
   "id": "e44e5ba1-d1d7-4845-b345-7a0cf953b2ab",
   "metadata": {
    "tags": []
   },
   "outputs": [],
   "source": [
    "#read in classifications\n",
    "y_true = pd.read_csv('ground_truth.csv')\n",
    "#y_true = y_true.sort_values(by='filename').reset_index(drop=True)"
   ]
  },
  {
   "cell_type": "code",
   "execution_count": 10,
   "id": "931f5025-5545-471b-a645-421d6c40d222",
   "metadata": {
    "tags": []
   },
   "outputs": [],
   "source": [
    "def class_creator(row):\n",
    "    '''\n",
    "    returns a class 0-3 for the 4 image classes\n",
    "    -row: dataframe row to be worked with\n",
    "    '''\n",
    "    #only tom is in the frame = class 0\n",
    "    if (row['tom'] == 1) & (row['jerry'] == 0):\n",
    "        val = 0\n",
    "    #only jerry is in the frame = class 1\n",
    "    elif (row['tom'] == 0) & (row['jerry'] == 1):\n",
    "        val = 1\n",
    "    #neither tom nor jerry is in the frame = class 2\n",
    "    elif (row['tom'] == 0) & (row['jerry'] == 0):\n",
    "        val = 2\n",
    "    #both tom and jerry are in the frame = class 3\n",
    "    else:\n",
    "        val = 3\n",
    "    return val"
   ]
  },
  {
   "cell_type": "code",
   "execution_count": 11,
   "id": "d653cc59-6ae6-42a9-b5c0-f53dc3ab25b2",
   "metadata": {
    "tags": []
   },
   "outputs": [],
   "source": [
    "#create a new column with these class values for each image\n",
    "y_true['class'] = y_true.apply(class_creator, axis=1)\n",
    "\n",
    "#drop all other columns and convert to an np array of the class values\n",
    "y_true = y_true['class'].values"
   ]
  },
  {
   "cell_type": "markdown",
   "id": "b7cfa86b-69b6-4dff-b509-826d05792826",
   "metadata": {
    "tags": []
   },
   "source": [
    "## Model Creation"
   ]
  },
  {
   "cell_type": "code",
   "execution_count": 19,
   "id": "a0b9ee79",
   "metadata": {},
   "outputs": [],
   "source": [
    "num_classes = 4\n",
    "# Convert labels to categorical format\n",
    "labels = to_categorical(y_true, num_classes)\n"
   ]
  },
  {
   "cell_type": "code",
   "execution_count": 20,
   "id": "e83b187b-e266-4486-8df1-e26b191d26bd",
   "metadata": {},
   "outputs": [],
   "source": [
    "\n",
    "X_train, X_val, y_train, y_val = train_test_split(images, labels, test_size=0.2, random_state=42)"
   ]
  },
  {
   "cell_type": "code",
   "execution_count": 21,
   "id": "09ddff83",
   "metadata": {},
   "outputs": [
    {
     "name": "stderr",
     "output_type": "stream",
     "text": [
      "C:\\Users\\alexander.smolentsev\\AppData\\Local\\anaconda3\\Lib\\site-packages\\keras\\src\\layers\\convolutional\\base_conv.py:107: UserWarning: Do not pass an `input_shape`/`input_dim` argument to a layer. When using Sequential models, prefer using an `Input(shape)` object as the first layer in the model instead.\n",
      "  super().__init__(activity_regularizer=activity_regularizer, **kwargs)\n"
     ]
    }
   ],
   "source": [
    "# Define the CNN model\n",
    "model = Sequential([\n",
    "    Conv2D(32, (3, 3), activation='relu', input_shape=(desired_width, desired_height, 1)),\n",
    "    MaxPooling2D((2, 2)),\n",
    "    Conv2D(64, (3, 3), activation='relu'),\n",
    "    MaxPooling2D((2, 2)),\n",
    "    Conv2D(128, (3, 3), activation='relu'),\n",
    "    MaxPooling2D((2, 2)),\n",
    "    Flatten(),\n",
    "    Dense(128, activation='relu'),\n",
    "    Dropout(0.5),\n",
    "    Dense(num_classes, activation='softmax')\n",
    "])"
   ]
  },
  {
   "cell_type": "code",
   "execution_count": 22,
   "id": "a1f550f4",
   "metadata": {},
   "outputs": [],
   "source": [
    "# Compile the model\n",
    "model.compile(optimizer=Adam(), loss='categorical_crossentropy', metrics=['accuracy'])"
   ]
  },
  {
   "cell_type": "code",
   "execution_count": 23,
   "id": "e950edd6",
   "metadata": {},
   "outputs": [
    {
     "name": "stdout",
     "output_type": "stream",
     "text": [
      "Epoch 1/10\n",
      "\u001b[1m137/137\u001b[0m \u001b[32m━━━━━━━━━━━━━━━━━━━━\u001b[0m\u001b[37m\u001b[0m \u001b[1m27s\u001b[0m 173ms/step - accuracy: 0.3573 - loss: 1.3418 - val_accuracy: 0.4170 - val_loss: 1.2324\n",
      "Epoch 2/10\n",
      "\u001b[1m137/137\u001b[0m \u001b[32m━━━━━━━━━━━━━━━━━━━━\u001b[0m\u001b[37m\u001b[0m \u001b[1m23s\u001b[0m 166ms/step - accuracy: 0.4940 - loss: 1.1478 - val_accuracy: 0.6113 - val_loss: 0.9239\n",
      "Epoch 3/10\n",
      "\u001b[1m137/137\u001b[0m \u001b[32m━━━━━━━━━━━━━━━━━━━━\u001b[0m\u001b[37m\u001b[0m \u001b[1m23s\u001b[0m 165ms/step - accuracy: 0.6219 - loss: 0.9154 - val_accuracy: 0.6715 - val_loss: 0.8477\n",
      "Epoch 4/10\n",
      "\u001b[1m137/137\u001b[0m \u001b[32m━━━━━━━━━━━━━━━━━━━━\u001b[0m\u001b[37m\u001b[0m \u001b[1m23s\u001b[0m 167ms/step - accuracy: 0.6911 - loss: 0.7784 - val_accuracy: 0.7035 - val_loss: 0.7413\n",
      "Epoch 5/10\n",
      "\u001b[1m137/137\u001b[0m \u001b[32m━━━━━━━━━━━━━━━━━━━━\u001b[0m\u001b[37m\u001b[0m \u001b[1m23s\u001b[0m 167ms/step - accuracy: 0.7475 - loss: 0.6176 - val_accuracy: 0.7500 - val_loss: 0.6787\n",
      "Epoch 6/10\n",
      "\u001b[1m137/137\u001b[0m \u001b[32m━━━━━━━━━━━━━━━━━━━━\u001b[0m\u001b[37m\u001b[0m \u001b[1m23s\u001b[0m 166ms/step - accuracy: 0.8033 - loss: 0.5247 - val_accuracy: 0.7783 - val_loss: 0.6282\n",
      "Epoch 7/10\n",
      "\u001b[1m137/137\u001b[0m \u001b[32m━━━━━━━━━━━━━━━━━━━━\u001b[0m\u001b[37m\u001b[0m \u001b[1m23s\u001b[0m 167ms/step - accuracy: 0.8383 - loss: 0.4091 - val_accuracy: 0.7755 - val_loss: 0.6307\n",
      "Epoch 8/10\n",
      "\u001b[1m137/137\u001b[0m \u001b[32m━━━━━━━━━━━━━━━━━━━━\u001b[0m\u001b[37m\u001b[0m \u001b[1m23s\u001b[0m 166ms/step - accuracy: 0.8645 - loss: 0.3470 - val_accuracy: 0.8011 - val_loss: 0.6086\n",
      "Epoch 9/10\n",
      "\u001b[1m137/137\u001b[0m \u001b[32m━━━━━━━━━━━━━━━━━━━━\u001b[0m\u001b[37m\u001b[0m \u001b[1m23s\u001b[0m 167ms/step - accuracy: 0.8888 - loss: 0.2907 - val_accuracy: 0.8175 - val_loss: 0.5687\n",
      "Epoch 10/10\n",
      "\u001b[1m137/137\u001b[0m \u001b[32m━━━━━━━━━━━━━━━━━━━━\u001b[0m\u001b[37m\u001b[0m \u001b[1m23s\u001b[0m 167ms/step - accuracy: 0.8979 - loss: 0.2647 - val_accuracy: 0.8057 - val_loss: 0.6253\n"
     ]
    }
   ],
   "source": [
    "# Train the model\n",
    "history = model.fit(X_train, y_train, epochs=10, batch_size=32, validation_data=(X_val, y_val))"
   ]
  },
  {
   "cell_type": "code",
   "execution_count": 24,
   "id": "7e7771ca",
   "metadata": {},
   "outputs": [
    {
     "name": "stdout",
     "output_type": "stream",
     "text": [
      "\u001b[1m35/35\u001b[0m \u001b[32m━━━━━━━━━━━━━━━━━━━━\u001b[0m\u001b[37m\u001b[0m \u001b[1m2s\u001b[0m 44ms/step - accuracy: 0.8166 - loss: 0.6279\n",
      "Validation loss: 0.6252709627151489\n",
      "Validation accuracy: 0.805656909942627\n"
     ]
    }
   ],
   "source": [
    "# Evaluate the model\n",
    "val_loss, val_accuracy = model.evaluate(X_val, y_val)\n",
    "print(f'Validation loss: {val_loss}')\n",
    "print(f'Validation accuracy: {val_accuracy}')"
   ]
  },
  {
   "cell_type": "markdown",
   "id": "0b2899a3",
   "metadata": {},
   "source": [
    "Training vs. Validation Accuracy: Since the training and validation accuracies are close (81.66% vs. 80.57%), this suggests that the model is not overfitting. Overfitting would typically show a much higher training accuracy compared to validation accuracy.\n",
    "\n",
    "Loss Values: The loss values (0.6279 for training and 0.6253 for validation) are also quite close, which also shows that the model is not overfitting."
   ]
  },
  {
   "cell_type": "code",
   "execution_count": null,
   "id": "f92cf746",
   "metadata": {},
   "outputs": [],
   "source": []
  }
 ],
 "metadata": {
  "kernelspec": {
   "display_name": "Python 3 (ipykernel)",
   "language": "python",
   "name": "python3"
  },
  "language_info": {
   "codemirror_mode": {
    "name": "ipython",
    "version": 3
   },
   "file_extension": ".py",
   "mimetype": "text/x-python",
   "name": "python",
   "nbconvert_exporter": "python",
   "pygments_lexer": "ipython3",
   "version": "3.11.5"
  }
 },
 "nbformat": 4,
 "nbformat_minor": 5
}
