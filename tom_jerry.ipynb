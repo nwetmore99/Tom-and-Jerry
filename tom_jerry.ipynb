{
 "cells": [
  {
   "cell_type": "code",
   "execution_count": 5,
   "id": "b86394f2",
   "metadata": {},
   "outputs": [],
   "source": [
    "import pandas as pd\n",
    "import cv2 #run pip install opencv-python\n",
    "import os\n",
    "import numpy as np"
   ]
  },
  {
   "cell_type": "code",
   "execution_count": 4,
   "id": "6c334048",
   "metadata": {},
   "outputs": [],
   "source": [
    "folder_paths = ['tom/', 'jerry/', 'tom_and_jerry/', 'tom_jerry_0/', 'tom_jerry_1/']"
   ]
  },
  {
   "cell_type": "code",
   "execution_count": 7,
   "id": "f03d493b",
   "metadata": {},
   "outputs": [],
   "source": [
    "desired_width = 224  # these can be changed\n",
    "desired_height = 224"
   ]
  },
  {
   "cell_type": "code",
   "execution_count": 14,
   "id": "2bec50d5",
   "metadata": {},
   "outputs": [],
   "source": [
    "images = []\n",
    "for folder_path in folder_paths:\n",
    "    for filename in os.listdir(folder_path):\n",
    "        img = cv2.imread(os.path.join(folder_path, filename))\n",
    "        img = cv2.resize(img, (desired_width, desired_height))\n",
    "        img = img / 255.0  # Normalize pixel values to [0, 1]\n",
    "        images.append(img)"
   ]
  },
  {
   "cell_type": "code",
   "execution_count": 15,
   "id": "cac1999e",
   "metadata": {},
   "outputs": [],
   "source": [
    "# Convert to NumPy array\n",
    "images = np.array(images)"
   ]
  },
  {
   "cell_type": "code",
   "execution_count": null,
   "id": "da3dd3d0",
   "metadata": {},
   "outputs": [],
   "source": []
  }
 ],
 "metadata": {
  "kernelspec": {
   "display_name": "Python 3 (ipykernel)",
   "language": "python",
   "name": "python3"
  },
  "language_info": {
   "codemirror_mode": {
    "name": "ipython",
    "version": 3
   },
   "file_extension": ".py",
   "mimetype": "text/x-python",
   "name": "python",
   "nbconvert_exporter": "python",
   "pygments_lexer": "ipython3",
   "version": "3.11.5"
  }
 },
 "nbformat": 4,
 "nbformat_minor": 5
}
