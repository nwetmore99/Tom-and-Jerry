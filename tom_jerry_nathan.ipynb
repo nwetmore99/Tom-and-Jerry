{
 "cells": [
  {
   "cell_type": "markdown",
   "id": "d82f82f9-f9ff-401a-8c75-9061920b6f53",
   "metadata": {},
   "source": [
    "# Convolutional Nueral Net From Scratch"
   ]
  },
  {
   "cell_type": "markdown",
   "id": "eb393524-6316-4412-a5f9-4fdda7c872af",
   "metadata": {},
   "source": [
    "For UCLA Math 156: Machine Learning with Prof. Lara Kassab, Spring 2024 \\\n",
    "Created by Sia Phulambrikar, Anya Smolentseva, and Nathan Wetmore"
   ]
  },
  {
   "cell_type": "markdown",
   "id": "f1df971b-5077-42ba-9c76-435914b6a5ae",
   "metadata": {
    "tags": []
   },
   "source": [
    "## Imports and Data Preprocessing"
   ]
  },
  {
   "cell_type": "markdown",
   "id": "568dab92-19fc-45ef-b0b8-383ce892c363",
   "metadata": {},
   "source": [
    "Note: to run this code please dowload the Tom and Jerry dataset from Kaggle [here](https://www.kaggle.com/datasets/balabaskar/tom-and-jerry-image-classification).\\\n",
    "You will need to drag all images from the four seperate class folders into a single new folder titled `frames`. The `frames` folder and the `ground_truths.csv` must be located in the same directory as this notebook."
   ]
  },
  {
   "cell_type": "code",
   "execution_count": 1,
   "id": "b86394f2",
   "metadata": {
    "tags": []
   },
   "outputs": [],
   "source": [
    "#imports required for code\n",
    "import pandas as pd\n",
    "import cv2 #run pip install opencv-python\n",
    "import os\n",
    "import numpy as np\n",
    "from matplotlib import pyplot as plt\n",
    "import pandas as pd\n",
    "from tqdm import tqdm\n",
    "from PIL import Image"
   ]
  },
  {
   "cell_type": "markdown",
   "id": "f89148c4-25c6-4959-99ba-58bf39177c0c",
   "metadata": {},
   "source": [
    "### Image Samples"
   ]
  },
  {
   "cell_type": "code",
   "execution_count": 207,
   "id": "f03d493b",
   "metadata": {
    "tags": []
   },
   "outputs": [],
   "source": [
    "#set the image size we want to use\n",
    "desired_width = 100\n",
    "desired_height = 100"
   ]
  },
  {
   "cell_type": "code",
   "execution_count": 209,
   "id": "2bec50d5",
   "metadata": {
    "tags": []
   },
   "outputs": [
    {
     "name": "stderr",
     "output_type": "stream",
     "text": [
      "100%|██████████| 5478/5478 [01:34<00:00, 58.00it/s]\n"
     ]
    },
    {
     "name": "stdout",
     "output_type": "stream",
     "text": [
      "(5478, 100, 100)\n"
     ]
    }
   ],
   "source": [
    "# Read ground truth CSV\n",
    "ground_truth = pd.read_csv('ground_truth.csv')\n",
    "\n",
    "# Sort the CSV by filename\n",
    "#ground_truth = ground_truth.sort_values(by='filename').reset_index(drop=True)\n",
    "\n",
    "# Get sorted list of filenames\n",
    "csv_filenames = ground_truth['filename'].values\n",
    "\n",
    "# Function to load and preprocess a single image\n",
    "def load_and_preprocess_image(filename):\n",
    "    img = cv2.imread(os.path.join('frames', filename))\n",
    "    if img is not None:\n",
    "        if len(img.shape) == 2 or img.shape[2] == 1:\n",
    "            gray_img = img\n",
    "        else:\n",
    "            gray_img = cv2.cvtColor(img, cv2.COLOR_BGR2GRAY)\n",
    "        gray_img = cv2.resize(gray_img, (desired_width, desired_height))\n",
    "        gray_img = gray_img / 255.0\n",
    "        return gray_img\n",
    "    else:\n",
    "        return None\n",
    "\n",
    "# Load images in the order specified by the CSV file\n",
    "images = []\n",
    "for filename in tqdm(csv_filenames):\n",
    "    img = load_and_preprocess_image(filename)\n",
    "    if img is not None:\n",
    "        images.append(img)\n",
    "\n",
    "# Convert images to a NumPy array\n",
    "images = np.array(images)\n",
    "\n",
    "# Check shapes to confirm everything is correct\n",
    "print(images.shape)\n"
   ]
  },
  {
   "cell_type": "code",
   "execution_count": 211,
   "id": "da3dd3d0",
   "metadata": {
    "tags": []
   },
   "outputs": [
    {
     "data": {
      "text/plain": [
       "<matplotlib.image.AxesImage at 0x1de10067850>"
      ]
     },
     "execution_count": 211,
     "metadata": {},
     "output_type": "execute_result"
    },
    {
     "data": {
      "image/png": "[encoded data removed]",
      "text/plain": [
       "<Figure size 640x480 with 1 Axes>"
      ]
     },
     "metadata": {},
     "output_type": "display_data"
    }
   ],
   "source": [
    "plt.imshow(images[4],cmap='gray')"
   ]
  },
  {
   "cell_type": "code",
   "execution_count": 184,
   "id": "3b7d068f-2664-4b70-83db-aa7d2a62fe45",
   "metadata": {
    "tags": []
   },
   "outputs": [
    {
     "data": {
      "text/plain": [
       "(5478, 244, 244)"
      ]
     },
     "execution_count": 184,
     "metadata": {},
     "output_type": "execute_result"
    }
   ],
   "source": [
    "images.shape"
   ]
  },
  {
   "cell_type": "markdown",
   "id": "afb63c39-3a3b-4fae-a03b-32bef95f128f",
   "metadata": {},
   "source": [
    "### Target Values"
   ]
  },
  {
   "cell_type": "code",
   "execution_count": 186,
   "id": "e44e5ba1-d1d7-4845-b345-7a0cf953b2ab",
   "metadata": {
    "tags": []
   },
   "outputs": [],
   "source": [
    "#read in classifications\n",
    "y_true = pd.read_csv('ground_truth.csv')\n",
    "#y_true = y_true.sort_values(by='filename').reset_index(drop=True)"
   ]
  },
  {
   "cell_type": "code",
   "execution_count": 188,
   "id": "931f5025-5545-471b-a645-421d6c40d222",
   "metadata": {
    "tags": []
   },
   "outputs": [],
   "source": [
    "def class_creator(row):\n",
    "    '''\n",
    "    returns a class 0-3 for the 4 image classes\n",
    "    -row: dataframe row to be worked with\n",
    "    '''\n",
    "    #only tom is in the frame = class 0\n",
    "    if (row['tom'] == 1) & (row['jerry'] == 0):\n",
    "        val = 0\n",
    "    #only jerry is in the frame = class 1\n",
    "    elif (row['tom'] == 0) & (row['jerry'] == 1):\n",
    "        val = 1\n",
    "    #neither tom nor jerry is in the frame = class 2\n",
    "    elif (row['tom'] == 0) & (row['jerry'] == 0):\n",
    "        val = 2\n",
    "    #both tom and jerry are in the frame = class 3\n",
    "    else:\n",
    "        val = 3\n",
    "    return val"
   ]
  },
  {
   "cell_type": "code",
   "execution_count": 190,
   "id": "d653cc59-6ae6-42a9-b5c0-f53dc3ab25b2",
   "metadata": {
    "tags": []
   },
   "outputs": [],
   "source": [
    "#create a new column with these class values for each image\n",
    "y_true['class'] = y_true.apply(class_creator, axis=1)\n",
    "\n",
    "#drop all other columns and convert to an np array of the class values\n",
    "y_true = y_true['class'].values"
   ]
  },
  {
   "cell_type": "markdown",
   "id": "b7cfa86b-69b6-4dff-b509-826d05792826",
   "metadata": {
    "tags": []
   },
   "source": [
    "## Model Creation"
   ]
  },
  {
   "cell_type": "markdown",
   "id": "6010d651-b189-485a-ad07-3e2b723db900",
   "metadata": {},
   "source": [
    "### Convolution Layer"
   ]
  },
  {
   "cell_type": "code",
   "execution_count": 142,
   "id": "bf285396-577f-4858-b8ef-47a4f4ce408c",
   "metadata": {
    "tags": []
   },
   "outputs": [],
   "source": [
    "class Conv2D:\n",
    "    def __init__(self, num_filters):\n",
    "        self.num_filters = num_filters\n",
    "        self.filters = np.random.randn(num_filters, 3, 3) / 9 \n",
    "        \n",
    "    def iterate_regions(self,image):\n",
    "        h, w = image.shape\n",
    "        for i in range(h-2):\n",
    "            for j in range (w-2):\n",
    "                region = image[i:(i+3), j:(j+3)]\n",
    "                yield region, i, j\n",
    "                \n",
    "    def forward(self, input_val):\n",
    "        self.last_input = input_val\n",
    "        h, w = input_val.shape\n",
    "        output = np.zeros ((h-2,w-2,self.num_filters))\n",
    "        for region, i, j in self.iterate_regions(input_val):\n",
    "            output[i,j] = np.sum(region * self.filters, axis=(1,2))\n",
    "        \n",
    "        return output\n",
    "    \n",
    "    def backprop(self, d_L_d_out, learn_rate):\n",
    "        '''\n",
    "        Performs a backward pass of the conv layer.\n",
    "        - d_L_d_out is the loss gradient for this layer's outputs.\n",
    "        - learn_rate is a float.\n",
    "        '''\n",
    "        d_L_d_filters = np.zeros(self.filters.shape)\n",
    "\n",
    "        for im_region, i, j in self.iterate_regions(self.last_input):\n",
    "            for f in range(self.num_filters):\n",
    "                d_L_d_filters[f] += d_L_d_out[i, j, f] * im_region\n",
    "\n",
    "        # Update filters\n",
    "        self.filters -= learn_rate * d_L_d_filters\n",
    "\n",
    "        # We aren't returning anything here since we use Conv3x3 as the first layer in our CNN.\n",
    "        # Otherwise, we'd need to return the loss gradient for this layer's inputs, just like every\n",
    "        # other layer in our CNN.\n",
    "        return None\n"
   ]
  },
  {
   "cell_type": "markdown",
   "id": "11a1251b-44da-4831-9390-f84a274bf4b8",
   "metadata": {},
   "source": [
    "### Pooling Layer"
   ]
  },
  {
   "cell_type": "code",
   "execution_count": 145,
   "id": "e95067eb-d92f-4ca2-adef-fcb68f5a4be6",
   "metadata": {
    "tags": []
   },
   "outputs": [],
   "source": [
    "class MaxPooling2D:\n",
    "    def iterate_regions(self, image):\n",
    "        '''\n",
    "        Generates non-overlapping 2x2 image regions to pool over.\n",
    "        - image is a 2d numpy array\n",
    "        '''\n",
    "        h, w, _ = image.shape\n",
    "        new_h = h // 2\n",
    "        new_w = w // 2\n",
    "\n",
    "        for i in range(new_h):\n",
    "            for j in range(new_w):\n",
    "                region = image[(i * 2):(i * 2 + 2), (j * 2):(j * 2 + 2)]\n",
    "                yield region, i, j\n",
    "            \n",
    "    def forward(self, input_val):\n",
    "        self.last_input = input_val\n",
    "\n",
    "        h, w, num_filters = input_val.shape\n",
    "        output = np.zeros((h // 2, w // 2, num_filters))\n",
    "\n",
    "        for im_region, i, j in self.iterate_regions(input_val):\n",
    "            output[i, j] = np.amax(im_region, axis=(0, 1))\n",
    "\n",
    "        return output\n",
    "    \n",
    "    def backprop(self, d_L_d_out):\n",
    "        '''\n",
    "        Performs a backward pass of the maxpool layer.\n",
    "        Returns the loss gradient for this layer's inputs.\n",
    "        - d_L_d_out is the loss gradient for this layer's outputs.\n",
    "        '''\n",
    "        d_L_d_input = np.zeros(self.last_input.shape)\n",
    "\n",
    "        for im_region, i, j in self.iterate_regions(self.last_input):\n",
    "            h, w, f = im_region.shape\n",
    "            amax = np.amax(im_region, axis=(0, 1))\n",
    "\n",
    "            for i2 in range(h):\n",
    "                for j2 in range(w):\n",
    "                    for f2 in range(f):\n",
    "                        # If this pixel was the max value, copy the gradient to it.\n",
    "                        if im_region[i2, j2, f2] == amax[f2]:\n",
    "                            d_L_d_input[i * 2 + i2, j * 2 + j2, f2] = d_L_d_out[i, j, f2]\n",
    "\n",
    "        return d_L_d_input"
   ]
  },
  {
   "cell_type": "markdown",
   "id": "5a7d6777-e46c-42f2-812c-98b4e412648f",
   "metadata": {},
   "source": [
    "### Dense Softmax Layer"
   ]
  },
  {
   "cell_type": "code",
   "execution_count": 148,
   "id": "c330d682-1c88-45d2-ab4a-7b1267ff5afb",
   "metadata": {
    "tags": []
   },
   "outputs": [],
   "source": [
    "class Softmax:\n",
    "  # A standard fully-connected layer with softmax activation.\n",
    "\n",
    "    def __init__(self, input_len, nodes):\n",
    "        # We divide by input_len to reduce the variance of our initial values\n",
    "        self.weights = np.random.randn(input_len, nodes) / input_len\n",
    "        self.biases = np.zeros(nodes)\n",
    "\n",
    "    def forward(self, input):\n",
    "        '''\n",
    "        Performs a forward pass of the softmax layer using the given input.\n",
    "        Returns a 1d numpy array containing the respective probability values.\n",
    "        - input can be any array with any dimensions.\n",
    "        '''\n",
    "        self.last_input_shape = input.shape\n",
    "\n",
    "        input = input.flatten()\n",
    "        self.last_input = input\n",
    "        \n",
    "        input_len, nodes = self.weights.shape\n",
    "\n",
    "        totals = np.dot(input, self.weights) + self.biases\n",
    "        self.last_totals = totals\n",
    "\n",
    "        exp = np.exp(totals)\n",
    "        return exp / np.sum(exp, axis=0)\n",
    "\n",
    "    def backprop(self, d_L_d_out, learn_rate):\n",
    "        '''\n",
    "        Performs a backward pass of the softmax layer.\n",
    "        Returns the loss gradient for this layer's inputs.\n",
    "        - d_L_d_out is the loss gradient for this layer's outputs.\n",
    "        - learn_rate is a float.\n",
    "        '''\n",
    "        # We know only 1 element of d_L_d_out will be nonzero\n",
    "        for i, gradient in enumerate(d_L_d_out):\n",
    "            if gradient == 0:\n",
    "                continue\n",
    "\n",
    "          # e^totals\n",
    "        t_exp = np.exp(self.last_totals)\n",
    "\n",
    "        # Sum of all e^totals\n",
    "        S = np.sum(t_exp)\n",
    "\n",
    "        # Gradients of out[i] against totals\n",
    "        d_out_d_t = -t_exp[i] * t_exp / (S ** 2)\n",
    "        d_out_d_t[i] = t_exp[i] * (S - t_exp[i]) / (S ** 2)\n",
    "\n",
    "        # Gradients of totals against weights/biases/input\n",
    "        d_t_d_w = self.last_input\n",
    "        d_t_d_b = 1\n",
    "        d_t_d_inputs = self.weights\n",
    "\n",
    "        # Gradients of loss against totals\n",
    "        d_L_d_t = gradient * d_out_d_t\n",
    "\n",
    "        # Gradients of loss against weights/biases/input\n",
    "        d_L_d_w = d_t_d_w[np.newaxis].T @ d_L_d_t[np.newaxis]\n",
    "        d_L_d_b = d_L_d_t * d_t_d_b\n",
    "        d_L_d_inputs = d_t_d_inputs @ d_L_d_t\n",
    "\n",
    "        # Update weights / biases\n",
    "        self.weights -= learn_rate * d_L_d_w\n",
    "        self.biases -= learn_rate * d_L_d_b\n",
    "\n",
    "        return d_L_d_inputs.reshape(self.last_input_shape)"
   ]
  },
  {
   "cell_type": "markdown",
   "id": "a478eb6f-e9a9-4cf1-b7ce-28b0b0417398",
   "metadata": {},
   "source": [
    "### The Model Class"
   ]
  },
  {
   "cell_type": "code",
   "execution_count": 198,
   "id": "81946a54-4ead-470d-b10e-02bb6c768e4b",
   "metadata": {
    "tags": []
   },
   "outputs": [],
   "source": [
    "class CNN: \n",
    "    def __init__(self,num_filters,img_size,num_classes):\n",
    "        self.num_filters = num_filters\n",
    "        self.pool_out_dim = int((img_size[0] - 2) / 2)\n",
    "        self.num_classes = num_classes\n",
    "        self.test = 2\n",
    "        self.conv = Conv2D(self.num_filters)                  \n",
    "        self.pool = MaxPooling2D()                  \n",
    "        self.softmax = Softmax(self.pool_out_dim * self.pool_out_dim * self.num_filters, \n",
    "                               self.num_classes)\n",
    "    \n",
    "    def forward(self, image, label):\n",
    "        '''\n",
    "        Completes a forward pass of the CNN and calculates the accuracy and\n",
    "        cross-entropy loss.\n",
    "        - image is a 2d numpy array\n",
    "        - label is a digit\n",
    "        '''\n",
    "        out = self.conv.forward(image)\n",
    "        out = self.pool.forward(out)\n",
    "        out = self.softmax.forward(out)\n",
    "\n",
    "        # Calculate cross-entropy loss and accuracy. np.log() is the natural log.\n",
    "        loss = -np.log(out[label])\n",
    "        acc = 1 if np.argmax(out) == label else 0\n",
    "\n",
    "        return out, loss, acc\n",
    "\n",
    "    def train_im(self, im, label, lr=.005):\n",
    "        '''\n",
    "        Completes a full training step on the given image and label.\n",
    "        Returns the cross-entropy loss and accuracy.\n",
    "        - image is a 2d numpy array\n",
    "        - label is a digit\n",
    "        - lr is the learning rate\n",
    "        '''\n",
    "        # Forward\n",
    "        out, loss, acc = self.forward(im, label)\n",
    "\n",
    "        # Calculate initial gradient\n",
    "        gradient = np.zeros(4)\n",
    "        gradient[label] = -1 / out[label]\n",
    "\n",
    "        # Backprop\n",
    "        gradient = self.softmax.backprop(gradient, lr)\n",
    "        gradient = self.pool.backprop(gradient)\n",
    "        gradient = self.conv.backprop(gradient, lr)\n",
    "\n",
    "        return out, loss, acc\n",
    "    \n",
    "    def train_model(self,X,y):\n",
    "        loss_history=[]\n",
    "        total_correct=0\n",
    "        acc_history=[]\n",
    "        num_images = X.shape[0]\n",
    "        print(num_images)\n",
    "        for i in tqdm(range(num_images)):\n",
    "            _, loss, acc = mymodel.train_im(X[i],y[i],lr=0.001)\n",
    "            total_correct+=acc\n",
    "            loss_history.append(loss)\n",
    "            acc_history.append(total_correct / (i+1))\n",
    "        \n",
    "        plt.plot(range(1,num_images+1), loss_history)\n",
    "        plt.xlabel('Iteration')\n",
    "        plt.ylabel('Loss')\n",
    "        plt.title('Model Loss over Time')\n",
    "        \n",
    "        \n",
    "    def predict(self):\n",
    "        return\n",
    "    \n",
    "    def evaluate(self):\n",
    "        return"
   ]
  },
  {
   "cell_type": "markdown",
   "id": "442ecc1c-ce00-4eda-aa5a-13cd1625a1e5",
   "metadata": {},
   "source": [
    "## Running the Model"
   ]
  },
  {
   "cell_type": "code",
   "execution_count": 213,
   "id": "3a90ae00-9297-4b6d-b97b-867f87f32292",
   "metadata": {
    "tags": []
   },
   "outputs": [],
   "source": [
    "mymodel = CNN(8,images[0].shape,4)"
   ]
  },
  {
   "cell_type": "code",
   "execution_count": 215,
   "id": "5a5a3f37-2d8f-4d3f-a0ec-a6732ba7bfca",
   "metadata": {
    "tags": []
   },
   "outputs": [],
   "source": [
    "selection = np.random.permutation(images.shape[0])\n",
    "rand_order_im = images[selection]\n",
    "rand_order_truth = y_true[selection]"
   ]
  },
  {
   "cell_type": "code",
   "execution_count": 217,
   "id": "f0151e50-cab1-4de6-b87d-6bcf4ce19e62",
   "metadata": {
    "tags": []
   },
   "outputs": [
    {
     "name": "stdout",
     "output_type": "stream",
     "text": [
      "50\n"
     ]
    },
    {
     "name": "stderr",
     "output_type": "stream",
     "text": [
      "100%|██████████| 50/50 [00:48<00:00,  1.04it/s]\n"
     ]
    },
    {
     "data": {
      "image/png": "[encoded data removed]",
      "text/plain": [
       "<Figure size 640x480 with 1 Axes>"
      ]
     },
     "metadata": {},
     "output_type": "display_data"
    }
   ],
   "source": [
    "mymodel.train_model(rand_order_im[0:50], rand_order_truth)"
   ]
  },
  {
   "cell_type": "code",
   "execution_count": 225,
   "id": "ff64fe8b-acb0-4d0f-8f00-deb01e3eac3d",
   "metadata": {
    "tags": []
   },
   "outputs": [
    {
     "name": "stdout",
     "output_type": "stream",
     "text": [
      "2\n"
     ]
    },
    {
     "data": {
      "image/png": "[encoded data removed]",
      "text/plain": [
       "<Figure size 640x480 with 1 Axes>"
      ]
     },
     "metadata": {},
     "output_type": "display_data"
    }
   ],
   "source": [
    "plt.imshow(images[70],cmap='gray')\n",
    "print(y_true[70])"
   ]
  },
  {
   "cell_type": "code",
   "execution_count": null,
   "id": "e83b187b-e266-4486-8df1-e26b191d26bd",
   "metadata": {},
   "outputs": [],
   "source": []
  }
 ],
 "metadata": {
  "kernelspec": {
   "display_name": "Python 3 (ipykernel)",
   "language": "python",
   "name": "python3"
  },
  "language_info": {
   "codemirror_mode": {
    "name": "ipython",
    "version": 3
   },
   "file_extension": ".py",
   "mimetype": "text/x-python",
   "name": "python",
   "nbconvert_exporter": "python",
   "pygments_lexer": "ipython3",
   "version": "3.11.5"
  }
 },
 "nbformat": 4,
 "nbformat_minor": 5
}
